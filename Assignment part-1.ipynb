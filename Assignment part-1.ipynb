{
    "nbformat_minor": 1, 
    "cells": [
        {
            "source": "# Initalize libraries to be used", 
            "cell_type": "markdown", 
            "metadata": {}
        }, 
        {
            "execution_count": 1, 
            "cell_type": "code", 
            "metadata": {}, 
            "outputs": [
                {
                    "output_type": "stream", 
                    "name": "stdout", 
                    "text": "Solving environment: done\n\n## Package Plan ##\n\n  environment location: /opt/conda/envs/Python36\n\n  added / updated specs: \n    - geopy\n\n\nThe following packages will be downloaded:\n\n    package                    |            build\n    ---------------------------|-----------------\n    geographiclib-1.49         |             py_0          32 KB  conda-forge\n    certifi-2019.6.16          |           py36_1         149 KB  conda-forge\n    geopy-1.20.0               |             py_0          57 KB  conda-forge\n    ca-certificates-2019.6.16  |       hecc5488_0         145 KB  conda-forge\n    openssl-1.1.1c             |       h516909a_0         2.1 MB  conda-forge\n    ------------------------------------------------------------\n                                           Total:         2.5 MB\n\nThe following NEW packages will be INSTALLED:\n\n    geographiclib:   1.49-py_0         conda-forge\n    geopy:           1.20.0-py_0       conda-forge\n\nThe following packages will be UPDATED:\n\n    ca-certificates: 2019.5.15-0                   --> 2019.6.16-hecc5488_0 conda-forge\n    certifi:         2019.6.16-py36_1              --> 2019.6.16-py36_1     conda-forge\n\nThe following packages will be DOWNGRADED:\n\n    openssl:         1.1.1c-h7b6447c_1             --> 1.1.1c-h516909a_0    conda-forge\n\n\nDownloading and Extracting Packages\ngeographiclib-1.49   | 32 KB     | ##################################### | 100% \ncertifi-2019.6.16    | 149 KB    | ##################################### | 100% \ngeopy-1.20.0         | 57 KB     | ##################################### | 100% \nca-certificates-2019 | 145 KB    | ##################################### | 100% \nopenssl-1.1.1c       | 2.1 MB    | ##################################### | 100% \nPreparing transaction: done\nVerifying transaction: done\nExecuting transaction: done\nSolving environment: done\n\n## Package Plan ##\n\n  environment location: /opt/conda/envs/Python36\n\n  added / updated specs: \n    - folium=0.5.0\n\n\nThe following packages will be downloaded:\n\n    package                    |            build\n    ---------------------------|-----------------\n    altair-3.2.0               |           py36_0         770 KB  conda-forge\n    branca-0.3.1               |             py_0          25 KB  conda-forge\n    folium-0.5.0               |             py_0          45 KB  conda-forge\n    vincent-0.4.4              |             py_1          28 KB  conda-forge\n    ------------------------------------------------------------\n                                           Total:         868 KB\n\nThe following NEW packages will be INSTALLED:\n\n    altair:  3.2.0-py36_0 conda-forge\n    branca:  0.3.1-py_0   conda-forge\n    folium:  0.5.0-py_0   conda-forge\n    vincent: 0.4.4-py_1   conda-forge\n\n\nDownloading and Extracting Packages\naltair-3.2.0         | 770 KB    | ##################################### | 100% \nbranca-0.3.1         | 25 KB     | ##################################### | 100% \nfolium-0.5.0         | 45 KB     | ##################################### | 100% \nvincent-0.4.4        | 28 KB     | ##################################### | 100% \nPreparing transaction: done\nVerifying transaction: done\nExecuting transaction: done\nLibraries imported.\n"
                }
            ], 
            "source": "import pandas as pd\nimport numpy as np\n!conda install -c conda-forge geopy --yes\nfrom geopy.geocoders import Nominatim # convert an address into latitude and longitude values\n\n!conda install -c conda-forge folium=0.5.0 --yes\nimport folium # map rendering library\n\nprint('Libraries imported.')"
        }, 
        {
            "source": "# Load population data for 2008 Toronto neighborhoods", 
            "cell_type": "markdown", 
            "metadata": {}
        }, 
        {
            "execution_count": 2, 
            "cell_type": "code", 
            "metadata": {}, 
            "outputs": [], 
            "source": "link='https://ckan0.cf.opendata.inter.prod-toronto.ca/download_resource/335e3407-d3ca-422a-bfac-e3807cfbe0d5'"
        }, 
        {
            "execution_count": 3, 
            "cell_type": "code", 
            "metadata": {}, 
            "outputs": [], 
            "source": "df_pop_08=pd.read_excel(link,sheet_name='RawData-Ref Period 2008',header=1)"
        }, 
        {
            "execution_count": 4, 
            "cell_type": "code", 
            "metadata": {
                "scrolled": true
            }, 
            "outputs": [
                {
                    "execution_count": 4, 
                    "metadata": {}, 
                    "data": {
                        "text/html": "<div>\n<style scoped>\n    .dataframe tbody tr th:only-of-type {\n        vertical-align: middle;\n    }\n\n    .dataframe tbody tr th {\n        vertical-align: top;\n    }\n\n    .dataframe thead th {\n        text-align: right;\n    }\n</style>\n<table border=\"1\" class=\"dataframe\">\n  <thead>\n    <tr style=\"text-align: right;\">\n      <th></th>\n      <th>Neighbourhood</th>\n      <th>Neighbourhood Id</th>\n      <th>Total Area</th>\n      <th>Total Population</th>\n      <th>Pop - Males</th>\n      <th>Pop - Females</th>\n      <th>Pop 0 - 4 years</th>\n      <th>Pop 5 - 9 years</th>\n      <th>Pop 10 - 14 years</th>\n      <th>Pop 15 -19 years</th>\n      <th>...</th>\n      <th>Home Repairs Needed</th>\n      <th>Tenant Average Rent</th>\n      <th>Low Income Families</th>\n      <th>Low Income Singles</th>\n      <th>Low Income Children</th>\n      <th>Family Income Category</th>\n      <th>Average Family Income</th>\n      <th>Household Income Category</th>\n      <th>Pre-Tax Household Income</th>\n      <th>After-Tax Household Income</th>\n    </tr>\n  </thead>\n  <tbody>\n    <tr>\n      <th>0</th>\n      <td>West Humber-Clairville</td>\n      <td>1</td>\n      <td>30.09</td>\n      <td>32265</td>\n      <td>16295</td>\n      <td>15960</td>\n      <td>2005</td>\n      <td>2135</td>\n      <td>2325</td>\n      <td>2180</td>\n      <td>...</td>\n      <td>365</td>\n      <td>850</td>\n      <td>7720</td>\n      <td>725</td>\n      <td>643</td>\n      <td>7720</td>\n      <td>67240</td>\n      <td>8960</td>\n      <td>63415</td>\n      <td>63977</td>\n    </tr>\n    <tr>\n      <th>1</th>\n      <td>Mount Olive-Silverstone-Jamestown</td>\n      <td>2</td>\n      <td>4.60</td>\n      <td>32130</td>\n      <td>15900</td>\n      <td>16230</td>\n      <td>2680</td>\n      <td>2680</td>\n      <td>2685</td>\n      <td>2285</td>\n      <td>...</td>\n      <td>980</td>\n      <td>875</td>\n      <td>7715</td>\n      <td>1177</td>\n      <td>1206</td>\n      <td>7720</td>\n      <td>52745</td>\n      <td>9265</td>\n      <td>48145</td>\n      <td>49601</td>\n    </tr>\n    <tr>\n      <th>2</th>\n      <td>Thistletown-Beaumond Heights</td>\n      <td>3</td>\n      <td>3.40</td>\n      <td>9925</td>\n      <td>4900</td>\n      <td>5035</td>\n      <td>615</td>\n      <td>625</td>\n      <td>645</td>\n      <td>630</td>\n      <td>...</td>\n      <td>185</td>\n      <td>875</td>\n      <td>2520</td>\n      <td>305</td>\n      <td>161</td>\n      <td>2520</td>\n      <td>71300</td>\n      <td>3150</td>\n      <td>55030</td>\n      <td>54910</td>\n    </tr>\n    <tr>\n      <th>3</th>\n      <td>Rexdale-Kipling</td>\n      <td>4</td>\n      <td>2.50</td>\n      <td>10725</td>\n      <td>5205</td>\n      <td>5525</td>\n      <td>580</td>\n      <td>645</td>\n      <td>665</td>\n      <td>640</td>\n      <td>...</td>\n      <td>300</td>\n      <td>835</td>\n      <td>2780</td>\n      <td>653</td>\n      <td>135</td>\n      <td>2775</td>\n      <td>65215</td>\n      <td>3880</td>\n      <td>52430</td>\n      <td>53779</td>\n    </tr>\n    <tr>\n      <th>4</th>\n      <td>Elms-Old Rexdale</td>\n      <td>5</td>\n      <td>2.90</td>\n      <td>9440</td>\n      <td>4615</td>\n      <td>4820</td>\n      <td>725</td>\n      <td>700</td>\n      <td>745</td>\n      <td>655</td>\n      <td>...</td>\n      <td>320</td>\n      <td>895</td>\n      <td>2560</td>\n      <td>255</td>\n      <td>328</td>\n      <td>2555</td>\n      <td>56515</td>\n      <td>3130</td>\n      <td>53780</td>\n      <td>55054</td>\n    </tr>\n  </tbody>\n</table>\n<p>5 rows \u00d7 85 columns</p>\n</div>", 
                        "text/plain": "                       Neighbourhood  Neighbourhood Id  Total Area  \\\n0             West Humber-Clairville                 1       30.09   \n1  Mount Olive-Silverstone-Jamestown                 2        4.60   \n2       Thistletown-Beaumond Heights                 3        3.40   \n3                    Rexdale-Kipling                 4        2.50   \n4                   Elms-Old Rexdale                 5        2.90   \n\n   Total Population  Pop - Males  Pop - Females  Pop 0 - 4 years  \\\n0             32265        16295          15960             2005   \n1             32130        15900          16230             2680   \n2              9925         4900           5035              615   \n3             10725         5205           5525              580   \n4              9440         4615           4820              725   \n\n   Pop 5 - 9 years  Pop 10 - 14 years  Pop 15 -19 years  ...  \\\n0             2135               2325              2180  ...   \n1             2680               2685              2285  ...   \n2              625                645               630  ...   \n3              645                665               640  ...   \n4              700                745               655  ...   \n\n   Home Repairs Needed  Tenant Average Rent  Low Income Families  \\\n0                  365                  850                 7720   \n1                  980                  875                 7715   \n2                  185                  875                 2520   \n3                  300                  835                 2780   \n4                  320                  895                 2560   \n\n   Low Income Singles  Low Income Children  Family Income Category  \\\n0                 725                  643                    7720   \n1                1177                 1206                    7720   \n2                 305                  161                    2520   \n3                 653                  135                    2775   \n4                 255                  328                    2555   \n\n      Average Family Income  Household Income Category  \\\n0                     67240                       8960   \n1                     52745                       9265   \n2                     71300                       3150   \n3                     65215                       3880   \n4                     56515                       3130   \n\n      Pre-Tax Household Income     After-Tax Household Income  \n0                        63415                          63977  \n1                        48145                          49601  \n2                        55030                          54910  \n3                        52430                          53779  \n4                        53780                          55054  \n\n[5 rows x 85 columns]"
                    }, 
                    "output_type": "execute_result"
                }
            ], 
            "source": "df_pop_08.head()"
        }, 
        {
            "execution_count": 5, 
            "cell_type": "code", 
            "metadata": {}, 
            "outputs": [], 
            "source": "df_pop_08=df_pop_08.filter(['Neighbourhood','Neighbourhood Id','Pop 20 - 24 years','Pop  25 - 29 years'],axis=1)"
        }, 
        {
            "execution_count": 6, 
            "cell_type": "code", 
            "metadata": {
                "scrolled": true
            }, 
            "outputs": [
                {
                    "execution_count": 6, 
                    "metadata": {}, 
                    "data": {
                        "text/html": "<div>\n<style scoped>\n    .dataframe tbody tr th:only-of-type {\n        vertical-align: middle;\n    }\n\n    .dataframe tbody tr th {\n        vertical-align: top;\n    }\n\n    .dataframe thead th {\n        text-align: right;\n    }\n</style>\n<table border=\"1\" class=\"dataframe\">\n  <thead>\n    <tr style=\"text-align: right;\">\n      <th></th>\n      <th>Neighbourhood</th>\n      <th>Neighbourhood Id</th>\n      <th>Pop 20 - 24 years</th>\n      <th>Pop  25 - 29 years</th>\n    </tr>\n  </thead>\n  <tbody>\n    <tr>\n      <th>0</th>\n      <td>West Humber-Clairville</td>\n      <td>1</td>\n      <td>2565</td>\n      <td>2465</td>\n    </tr>\n    <tr>\n      <th>1</th>\n      <td>Mount Olive-Silverstone-Jamestown</td>\n      <td>2</td>\n      <td>2410</td>\n      <td>2590</td>\n    </tr>\n    <tr>\n      <th>2</th>\n      <td>Thistletown-Beaumond Heights</td>\n      <td>3</td>\n      <td>655</td>\n      <td>650</td>\n    </tr>\n    <tr>\n      <th>3</th>\n      <td>Rexdale-Kipling</td>\n      <td>4</td>\n      <td>630</td>\n      <td>600</td>\n    </tr>\n    <tr>\n      <th>4</th>\n      <td>Elms-Old Rexdale</td>\n      <td>5</td>\n      <td>615</td>\n      <td>645</td>\n    </tr>\n  </tbody>\n</table>\n</div>", 
                        "text/plain": "                       Neighbourhood  Neighbourhood Id  Pop 20 - 24 years  \\\n0             West Humber-Clairville                 1               2565   \n1  Mount Olive-Silverstone-Jamestown                 2               2410   \n2       Thistletown-Beaumond Heights                 3                655   \n3                    Rexdale-Kipling                 4                630   \n4                   Elms-Old Rexdale                 5                615   \n\n   Pop  25 - 29 years  \n0                2465  \n1                2590  \n2                 650  \n3                 600  \n4                 645  "
                    }, 
                    "output_type": "execute_result"
                }
            ], 
            "source": "df_pop_08.head()"
        }, 
        {
            "execution_count": 7, 
            "cell_type": "code", 
            "metadata": {}, 
            "outputs": [], 
            "source": "df_pop_08['Total_young_08']=df_pop_08['Pop 20 - 24 years'] + df_pop_08['Pop  25 - 29 years']"
        }, 
        {
            "execution_count": 8, 
            "cell_type": "code", 
            "metadata": {}, 
            "outputs": [
                {
                    "execution_count": 8, 
                    "metadata": {}, 
                    "data": {
                        "text/html": "<div>\n<style scoped>\n    .dataframe tbody tr th:only-of-type {\n        vertical-align: middle;\n    }\n\n    .dataframe tbody tr th {\n        vertical-align: top;\n    }\n\n    .dataframe thead th {\n        text-align: right;\n    }\n</style>\n<table border=\"1\" class=\"dataframe\">\n  <thead>\n    <tr style=\"text-align: right;\">\n      <th></th>\n      <th>Neighbourhood</th>\n      <th>Neighbourhood Id</th>\n      <th>Pop 20 - 24 years</th>\n      <th>Pop  25 - 29 years</th>\n      <th>Total_young_08</th>\n    </tr>\n  </thead>\n  <tbody>\n    <tr>\n      <th>0</th>\n      <td>West Humber-Clairville</td>\n      <td>1</td>\n      <td>2565</td>\n      <td>2465</td>\n      <td>5030</td>\n    </tr>\n    <tr>\n      <th>1</th>\n      <td>Mount Olive-Silverstone-Jamestown</td>\n      <td>2</td>\n      <td>2410</td>\n      <td>2590</td>\n      <td>5000</td>\n    </tr>\n    <tr>\n      <th>2</th>\n      <td>Thistletown-Beaumond Heights</td>\n      <td>3</td>\n      <td>655</td>\n      <td>650</td>\n      <td>1305</td>\n    </tr>\n    <tr>\n      <th>3</th>\n      <td>Rexdale-Kipling</td>\n      <td>4</td>\n      <td>630</td>\n      <td>600</td>\n      <td>1230</td>\n    </tr>\n    <tr>\n      <th>4</th>\n      <td>Elms-Old Rexdale</td>\n      <td>5</td>\n      <td>615</td>\n      <td>645</td>\n      <td>1260</td>\n    </tr>\n  </tbody>\n</table>\n</div>", 
                        "text/plain": "                       Neighbourhood  Neighbourhood Id  Pop 20 - 24 years  \\\n0             West Humber-Clairville                 1               2565   \n1  Mount Olive-Silverstone-Jamestown                 2               2410   \n2       Thistletown-Beaumond Heights                 3                655   \n3                    Rexdale-Kipling                 4                630   \n4                   Elms-Old Rexdale                 5                615   \n\n   Pop  25 - 29 years  Total_young_08  \n0                2465            5030  \n1                2590            5000  \n2                 650            1305  \n3                 600            1230  \n4                 645            1260  "
                    }, 
                    "output_type": "execute_result"
                }
            ], 
            "source": "df_pop_08.head()"
        }, 
        {
            "source": "# Load population data for 2011 Toronto neighborhoods", 
            "cell_type": "markdown", 
            "metadata": {}
        }, 
        {
            "execution_count": 9, 
            "cell_type": "code", 
            "metadata": {}, 
            "outputs": [], 
            "source": "df_pop_11=pd.read_excel(link,sheet_name='RawData-Ref Period 2011',header=1)"
        }, 
        {
            "execution_count": 10, 
            "cell_type": "code", 
            "metadata": {}, 
            "outputs": [
                {
                    "execution_count": 10, 
                    "metadata": {}, 
                    "data": {
                        "text/html": "<div>\n<style scoped>\n    .dataframe tbody tr th:only-of-type {\n        vertical-align: middle;\n    }\n\n    .dataframe tbody tr th {\n        vertical-align: top;\n    }\n\n    .dataframe thead th {\n        text-align: right;\n    }\n</style>\n<table border=\"1\" class=\"dataframe\">\n  <thead>\n    <tr style=\"text-align: right;\">\n      <th></th>\n      <th>Neighbourhood</th>\n      <th>Neighbourhood Id</th>\n      <th>Total Area</th>\n      <th>Total Population</th>\n      <th>Pop - Males</th>\n      <th>Pop - Females</th>\n      <th>Pop 0 - 4 years</th>\n      <th>Pop 5 - 9 years</th>\n      <th>Pop 10 - 14 years</th>\n      <th>Pop 15 -19 years</th>\n      <th>...</th>\n      <th>Language - Chinese</th>\n      <th>Language - Italian</th>\n      <th>Language - Korean</th>\n      <th>Language - Persian (Farsi)</th>\n      <th>Language - Portuguese</th>\n      <th>Language - Russian</th>\n      <th>Language - Spanish</th>\n      <th>Language - Tagalog</th>\n      <th>Language - Tamil</th>\n      <th>Language - Urdu</th>\n    </tr>\n  </thead>\n  <tbody>\n    <tr>\n      <th>0</th>\n      <td>West Humber-Clairville</td>\n      <td>1</td>\n      <td>30.09</td>\n      <td>34100</td>\n      <td>17095</td>\n      <td>17000</td>\n      <td>1865</td>\n      <td>1950</td>\n      <td>2155</td>\n      <td>2550</td>\n      <td>...</td>\n      <td>475</td>\n      <td>925</td>\n      <td>95</td>\n      <td>160</td>\n      <td>205</td>\n      <td>15</td>\n      <td>1100</td>\n      <td>850</td>\n      <td>715</td>\n      <td>715</td>\n    </tr>\n    <tr>\n      <th>1</th>\n      <td>Mount Olive-Silverstone-Jamestown</td>\n      <td>2</td>\n      <td>4.60</td>\n      <td>32790</td>\n      <td>16015</td>\n      <td>16765</td>\n      <td>2575</td>\n      <td>2535</td>\n      <td>2555</td>\n      <td>2620</td>\n      <td>...</td>\n      <td>275</td>\n      <td>750</td>\n      <td>60</td>\n      <td>350</td>\n      <td>115</td>\n      <td>50</td>\n      <td>820</td>\n      <td>345</td>\n      <td>1420</td>\n      <td>1075</td>\n    </tr>\n    <tr>\n      <th>2</th>\n      <td>Thistletown-Beaumond Heights</td>\n      <td>3</td>\n      <td>3.40</td>\n      <td>10140</td>\n      <td>4920</td>\n      <td>5225</td>\n      <td>575</td>\n      <td>580</td>\n      <td>670</td>\n      <td>675</td>\n      <td>...</td>\n      <td>95</td>\n      <td>705</td>\n      <td>35</td>\n      <td>115</td>\n      <td>105</td>\n      <td>15</td>\n      <td>570</td>\n      <td>130</td>\n      <td>120</td>\n      <td>300</td>\n    </tr>\n    <tr>\n      <th>3</th>\n      <td>Rexdale-Kipling</td>\n      <td>4</td>\n      <td>2.50</td>\n      <td>10485</td>\n      <td>5035</td>\n      <td>5455</td>\n      <td>495</td>\n      <td>520</td>\n      <td>570</td>\n      <td>665</td>\n      <td>...</td>\n      <td>95</td>\n      <td>475</td>\n      <td>30</td>\n      <td>95</td>\n      <td>145</td>\n      <td>30</td>\n      <td>700</td>\n      <td>180</td>\n      <td>70</td>\n      <td>215</td>\n    </tr>\n    <tr>\n      <th>4</th>\n      <td>Elms-Old Rexdale</td>\n      <td>5</td>\n      <td>2.90</td>\n      <td>9550</td>\n      <td>4615</td>\n      <td>4935</td>\n      <td>670</td>\n      <td>720</td>\n      <td>720</td>\n      <td>725</td>\n      <td>...</td>\n      <td>90</td>\n      <td>510</td>\n      <td>55</td>\n      <td>285</td>\n      <td>80</td>\n      <td>30</td>\n      <td>670</td>\n      <td>195</td>\n      <td>60</td>\n      <td>140</td>\n    </tr>\n  </tbody>\n</table>\n<p>5 rows \u00d7 39 columns</p>\n</div>", 
                        "text/plain": "                       Neighbourhood  Neighbourhood Id  Total Area  \\\n0             West Humber-Clairville                 1       30.09   \n1  Mount Olive-Silverstone-Jamestown                 2        4.60   \n2       Thistletown-Beaumond Heights                 3        3.40   \n3                    Rexdale-Kipling                 4        2.50   \n4                   Elms-Old Rexdale                 5        2.90   \n\n   Total Population  Pop - Males  Pop - Females  Pop 0 - 4 years  \\\n0             34100        17095          17000             1865   \n1             32790        16015          16765             2575   \n2             10140         4920           5225              575   \n3             10485         5035           5455              495   \n4              9550         4615           4935              670   \n\n   Pop 5 - 9 years  Pop 10 - 14 years  Pop 15 -19 years  ...  \\\n0             1950               2155              2550  ...   \n1             2535               2555              2620  ...   \n2              580                670               675  ...   \n3              520                570               665  ...   \n4              720                720               725  ...   \n\n      Language - Chinese     Language - Italian     Language - Korean  \\\n0                    475                    925                    95   \n1                    275                    750                    60   \n2                     95                    705                    35   \n3                     95                    475                    30   \n4                     90                    510                    55   \n\n      Language - Persian (Farsi)     Language - Portuguese  \\\n0                            160                       205   \n1                            350                       115   \n2                            115                       105   \n3                             95                       145   \n4                            285                        80   \n\n      Language - Russian     Language - Spanish     Language - Tagalog  \\\n0                     15                   1100                    850   \n1                     50                    820                    345   \n2                     15                    570                    130   \n3                     30                    700                    180   \n4                     30                    670                    195   \n\n      Language - Tamil     Language - Urdu  \n0                  715                 715  \n1                 1420                1075  \n2                  120                 300  \n3                   70                 215  \n4                   60                 140  \n\n[5 rows x 39 columns]"
                    }, 
                    "output_type": "execute_result"
                }
            ], 
            "source": "df_pop_11.head()"
        }, 
        {
            "execution_count": 11, 
            "cell_type": "code", 
            "metadata": {}, 
            "outputs": [], 
            "source": "df_pop_11=df_pop_11.filter(['Neighbourhood','Neighbourhood Id','Pop 20 - 24 years','Pop  25 - 29 years'],axis=1)"
        }, 
        {
            "execution_count": 12, 
            "cell_type": "code", 
            "metadata": {}, 
            "outputs": [], 
            "source": "df_pop_11['Total_young_11']=df_pop_11['Pop 20 - 24 years'] + df_pop_11['Pop  25 - 29 years']"
        }, 
        {
            "execution_count": 13, 
            "cell_type": "code", 
            "metadata": {}, 
            "outputs": [
                {
                    "execution_count": 13, 
                    "metadata": {}, 
                    "data": {
                        "text/html": "<div>\n<style scoped>\n    .dataframe tbody tr th:only-of-type {\n        vertical-align: middle;\n    }\n\n    .dataframe tbody tr th {\n        vertical-align: top;\n    }\n\n    .dataframe thead th {\n        text-align: right;\n    }\n</style>\n<table border=\"1\" class=\"dataframe\">\n  <thead>\n    <tr style=\"text-align: right;\">\n      <th></th>\n      <th>Neighbourhood</th>\n      <th>Neighbourhood Id</th>\n      <th>Pop 20 - 24 years</th>\n      <th>Pop  25 - 29 years</th>\n      <th>Total_young_11</th>\n    </tr>\n  </thead>\n  <tbody>\n    <tr>\n      <th>0</th>\n      <td>West Humber-Clairville</td>\n      <td>1</td>\n      <td>2855</td>\n      <td>2755</td>\n      <td>5610</td>\n    </tr>\n    <tr>\n      <th>1</th>\n      <td>Mount Olive-Silverstone-Jamestown</td>\n      <td>2</td>\n      <td>2400</td>\n      <td>2335</td>\n      <td>4735</td>\n    </tr>\n    <tr>\n      <th>2</th>\n      <td>Thistletown-Beaumond Heights</td>\n      <td>3</td>\n      <td>675</td>\n      <td>675</td>\n      <td>1350</td>\n    </tr>\n    <tr>\n      <th>3</th>\n      <td>Rexdale-Kipling</td>\n      <td>4</td>\n      <td>650</td>\n      <td>645</td>\n      <td>1295</td>\n    </tr>\n    <tr>\n      <th>4</th>\n      <td>Elms-Old Rexdale</td>\n      <td>5</td>\n      <td>655</td>\n      <td>570</td>\n      <td>1225</td>\n    </tr>\n  </tbody>\n</table>\n</div>", 
                        "text/plain": "                       Neighbourhood  Neighbourhood Id  Pop 20 - 24 years  \\\n0             West Humber-Clairville                 1               2855   \n1  Mount Olive-Silverstone-Jamestown                 2               2400   \n2       Thistletown-Beaumond Heights                 3                675   \n3                    Rexdale-Kipling                 4                650   \n4                   Elms-Old Rexdale                 5                655   \n\n   Pop  25 - 29 years  Total_young_11  \n0                2755            5610  \n1                2335            4735  \n2                 675            1350  \n3                 645            1295  \n4                 570            1225  "
                    }, 
                    "output_type": "execute_result"
                }
            ], 
            "source": "df_pop_11.head()"
        }, 
        {
            "source": "# Load income data for Toronto neighborhoods", 
            "cell_type": "markdown", 
            "metadata": {}
        }, 
        {
            "execution_count": 14, 
            "cell_type": "code", 
            "metadata": {}, 
            "outputs": [], 
            "source": "link1='https://ckan0.cf.opendata.inter.prod-toronto.ca/download_resource/8d838d5c-20da-48bd-b4a7-3e66b1c25b55'"
        }, 
        {
            "execution_count": 15, 
            "cell_type": "code", 
            "metadata": {}, 
            "outputs": [], 
            "source": "df_income_neigh=pd.read_excel(link1,sheet_name='Sheet1')"
        }, 
        {
            "execution_count": 16, 
            "cell_type": "code", 
            "metadata": {}, 
            "outputs": [
                {
                    "execution_count": 16, 
                    "metadata": {}, 
                    "data": {
                        "text/html": "<div>\n<style scoped>\n    .dataframe tbody tr th:only-of-type {\n        vertical-align: middle;\n    }\n\n    .dataframe tbody tr th {\n        vertical-align: top;\n    }\n\n    .dataframe thead th {\n        text-align: right;\n    }\n</style>\n<table border=\"1\" class=\"dataframe\">\n  <thead>\n    <tr style=\"text-align: right;\">\n      <th></th>\n      <th>Hood#</th>\n      <th>Total Population</th>\n      <th>Child0-14</th>\n      <th>Youth15-24</th>\n      <th>Seniors65</th>\n      <th>Total visible minority population</th>\n      <th>South Asian</th>\n      <th>Chinese</th>\n      <th>Black</th>\n      <th>Filipino</th>\n      <th>...</th>\n      <th>Total number of private households by tenure</th>\n      <th>Owner</th>\n      <th>Renter</th>\n      <th>% of owner households spending 30% or more of household total income on shelter costs</th>\n      <th>Major repairs needed</th>\n      <th>Average monthly shelter costs for rented dwellings ($)</th>\n      <th>Average after-tax family income $ (Family income in 2010 of economic families)</th>\n      <th>Household income in 2010 of private households</th>\n      <th>Median household total income $</th>\n      <th>Median after-tax household income $</th>\n    </tr>\n  </thead>\n  <tbody>\n    <tr>\n      <th>0</th>\n      <td>ID</td>\n      <td>popt01</td>\n      <td>popt201</td>\n      <td>popt202</td>\n      <td>popt204</td>\n      <td>vismin01</td>\n      <td>vismin04</td>\n      <td>vismin05</td>\n      <td>vismin03</td>\n      <td>vismin09</td>\n      <td>...</td>\n      <td>occprdw20</td>\n      <td>occprdw05</td>\n      <td>occprdw06</td>\n      <td>shelter30</td>\n      <td>occprdw11</td>\n      <td>occprdw21</td>\n      <td>infamtx12</td>\n      <td>incprhh01</td>\n      <td>incprhh14</td>\n      <td>incprhh58</td>\n    </tr>\n    <tr>\n      <th>1</th>\n      <td>1</td>\n      <td>34100</td>\n      <td>5970</td>\n      <td>5405</td>\n      <td>4305</td>\n      <td>26475</td>\n      <td>13080</td>\n      <td>695</td>\n      <td>6385</td>\n      <td>1470</td>\n      <td>...</td>\n      <td>10130</td>\n      <td>7075</td>\n      <td>3050</td>\n      <td>27.9</td>\n      <td>415</td>\n      <td>945</td>\n      <td>72820</td>\n      <td>10130</td>\n      <td>66241</td>\n      <td>59703</td>\n    </tr>\n    <tr>\n      <th>2</th>\n      <td>2</td>\n      <td>32790</td>\n      <td>7665</td>\n      <td>5020</td>\n      <td>2945</td>\n      <td>28175</td>\n      <td>12720</td>\n      <td>200</td>\n      <td>8285</td>\n      <td>680</td>\n      <td>...</td>\n      <td>9610</td>\n      <td>4540</td>\n      <td>5070</td>\n      <td>33.3</td>\n      <td>1100</td>\n      <td>921</td>\n      <td>57411</td>\n      <td>9610</td>\n      <td>49934</td>\n      <td>46986</td>\n    </tr>\n    <tr>\n      <th>3</th>\n      <td>3</td>\n      <td>10140</td>\n      <td>1825</td>\n      <td>1350</td>\n      <td>1745</td>\n      <td>6285</td>\n      <td>2285</td>\n      <td>105</td>\n      <td>1530</td>\n      <td>485</td>\n      <td>...</td>\n      <td>3225</td>\n      <td>2080</td>\n      <td>1145</td>\n      <td>25.1</td>\n      <td>170</td>\n      <td>887</td>\n      <td>70838</td>\n      <td>3225</td>\n      <td>62042</td>\n      <td>57522</td>\n    </tr>\n    <tr>\n      <th>4</th>\n      <td>4</td>\n      <td>10485</td>\n      <td>1585</td>\n      <td>1315</td>\n      <td>1915</td>\n      <td>4425</td>\n      <td>1435</td>\n      <td>200</td>\n      <td>1025</td>\n      <td>245</td>\n      <td>...</td>\n      <td>3945</td>\n      <td>2010</td>\n      <td>1935</td>\n      <td>19.7</td>\n      <td>340</td>\n      <td>857</td>\n      <td>69367</td>\n      <td>3945</td>\n      <td>56545</td>\n      <td>51194</td>\n    </tr>\n  </tbody>\n</table>\n<p>5 rows \u00d7 48 columns</p>\n</div>", 
                        "text/plain": "  Hood# Total Population Child0-14 Youth15-24 Seniors65  \\\n0    ID           popt01   popt201    popt202   popt204   \n1     1            34100      5970       5405      4305   \n2     2            32790      7665       5020      2945   \n3     3            10140      1825       1350      1745   \n4     4            10485      1585       1315      1915   \n\n    Total visible minority population     South Asian     Chinese     Black  \\\n0                            vismin01        vismin04    vismin05  vismin03   \n1                               26475           13080         695      6385   \n2                               28175           12720         200      8285   \n3                                6285            2285         105      1530   \n4                                4425            1435         200      1025   \n\n      Filipino  ... Total number of private households by tenure      Owner  \\\n0     vismin09  ...                                    occprdw20  occprdw05   \n1         1470  ...                                        10130       7075   \n2          680  ...                                         9610       4540   \n3          485  ...                                         3225       2080   \n4          245  ...                                         3945       2010   \n\n      Renter  \\\n0  occprdw06   \n1       3050   \n2       5070   \n3       1145   \n4       1935   \n\n    % of owner households spending 30% or more of household total income on shelter costs  \\\n0                                          shelter30                                        \n1                                               27.9                                        \n2                                               33.3                                        \n3                                               25.1                                        \n4                                               19.7                                        \n\n    Major repairs needed  \\\n0              occprdw11   \n1                    415   \n2                   1100   \n3                    170   \n4                    340   \n\n    Average monthly shelter costs for rented dwellings ($)  \\\n0                                          occprdw21         \n1                                                945         \n2                                                921         \n3                                                887         \n4                                                857         \n\n    Average after-tax family income $ (Family income in 2010 of economic families)  \\\n0                                          infamtx12                                 \n1                                              72820                                 \n2                                              57411                                 \n3                                              70838                                 \n4                                              69367                                 \n\n  Household income in 2010 of private households  \\\n0                                      incprhh01   \n1                                          10130   \n2                                           9610   \n3                                           3225   \n4                                           3945   \n\n    Median household total income $   Median after-tax household income $  \n0                         incprhh14                             incprhh58  \n1                             66241                                 59703  \n2                             49934                                 46986  \n3                             62042                                 57522  \n4                             56545                                 51194  \n\n[5 rows x 48 columns]"
                    }, 
                    "output_type": "execute_result"
                }
            ], 
            "source": "df_income_neigh.head()"
        }, 
        {
            "execution_count": 17, 
            "cell_type": "code", 
            "metadata": {
                "scrolled": true
            }, 
            "outputs": [
                {
                    "execution_count": 17, 
                    "metadata": {}, 
                    "data": {
                        "text/plain": "['Hood#',\n 'Total Population',\n 'Child0-14',\n 'Youth15-24',\n 'Seniors65',\n '  Total visible minority population',\n '    South Asian',\n '    Chinese',\n '    Black',\n '    Filipino',\n '    Latin American',\n '    Arab',\n '    Southeast Asian',\n '    West Asian',\n '    Korean',\n '    Japanese',\n '    Visible minority, n.i.e.',\n '    Multiple visible minorities',\n '  Not a visible minority',\n 'Total - Mobility status 5 years ago',\n '  Non-movers',\n '  Movers',\n 'Total recent immigrant population in private households by selected places of birth',\n 'Middle East/Western Asia',\n 'Eastern',\n 'South East',\n 'Southern',\n '    Other places of birth in Asia',\n 'Americas w/o USA',\n '  Europe',\n '  Africa',\n 'Total population aged 15 years and over by labour force status ',\n '  In the labour force ',\n '    Unemployed',\n '  Not in the labour force',\n '  No certificate, diploma or degree',\n '    College, CEGEP or other non-university certificate or diploma',\n '    University certificate or diploma below bachelor level',\n 'Total number of private households by tenure',\n '  Owner',\n '  Renter',\n '  % of owner households spending 30% or more of household total income on shelter costs',\n '  Major repairs needed',\n '  Average monthly shelter costs for rented dwellings ($)',\n '  Average after-tax family income $ (Family income in 2010 of economic families)',\n 'Household income in 2010 of private households',\n '  Median household total income $',\n '  Median after-tax household income $']"
                    }, 
                    "output_type": "execute_result"
                }
            ], 
            "source": "list(df_income_neigh.columns)"
        }, 
        {
            "execution_count": 18, 
            "cell_type": "code", 
            "metadata": {}, 
            "outputs": [], 
            "source": "df_income_neigh=df_income_neigh.filter(['Hood#','  Median after-tax household income $'],axis=1)"
        }, 
        {
            "execution_count": 19, 
            "cell_type": "code", 
            "metadata": {}, 
            "outputs": [
                {
                    "execution_count": 19, 
                    "metadata": {}, 
                    "data": {
                        "text/html": "<div>\n<style scoped>\n    .dataframe tbody tr th:only-of-type {\n        vertical-align: middle;\n    }\n\n    .dataframe tbody tr th {\n        vertical-align: top;\n    }\n\n    .dataframe thead th {\n        text-align: right;\n    }\n</style>\n<table border=\"1\" class=\"dataframe\">\n  <thead>\n    <tr style=\"text-align: right;\">\n      <th></th>\n      <th>Hood#</th>\n      <th>Median after-tax household income $</th>\n    </tr>\n  </thead>\n  <tbody>\n    <tr>\n      <th>0</th>\n      <td>ID</td>\n      <td>incprhh58</td>\n    </tr>\n    <tr>\n      <th>1</th>\n      <td>1</td>\n      <td>59703</td>\n    </tr>\n    <tr>\n      <th>2</th>\n      <td>2</td>\n      <td>46986</td>\n    </tr>\n    <tr>\n      <th>3</th>\n      <td>3</td>\n      <td>57522</td>\n    </tr>\n    <tr>\n      <th>4</th>\n      <td>4</td>\n      <td>51194</td>\n    </tr>\n  </tbody>\n</table>\n</div>", 
                        "text/plain": "  Hood#   Median after-tax household income $\n0    ID                             incprhh58\n1     1                                 59703\n2     2                                 46986\n3     3                                 57522\n4     4                                 51194"
                    }, 
                    "output_type": "execute_result"
                }
            ], 
            "source": "df_income_neigh.head()"
        }, 
        {
            "execution_count": 20, 
            "cell_type": "code", 
            "metadata": {
                "scrolled": true
            }, 
            "outputs": [
                {
                    "execution_count": 20, 
                    "metadata": {}, 
                    "data": {
                        "text/html": "<div>\n<style scoped>\n    .dataframe tbody tr th:only-of-type {\n        vertical-align: middle;\n    }\n\n    .dataframe tbody tr th {\n        vertical-align: top;\n    }\n\n    .dataframe thead th {\n        text-align: right;\n    }\n</style>\n<table border=\"1\" class=\"dataframe\">\n  <thead>\n    <tr style=\"text-align: right;\">\n      <th></th>\n      <th>Neighbourhood Id</th>\n      <th>Income</th>\n    </tr>\n  </thead>\n  <tbody>\n    <tr>\n      <th>0</th>\n      <td>ID</td>\n      <td>incprhh58</td>\n    </tr>\n    <tr>\n      <th>1</th>\n      <td>1</td>\n      <td>59703</td>\n    </tr>\n    <tr>\n      <th>2</th>\n      <td>2</td>\n      <td>46986</td>\n    </tr>\n    <tr>\n      <th>3</th>\n      <td>3</td>\n      <td>57522</td>\n    </tr>\n    <tr>\n      <th>4</th>\n      <td>4</td>\n      <td>51194</td>\n    </tr>\n    <tr>\n      <th>5</th>\n      <td>5</td>\n      <td>49425</td>\n    </tr>\n    <tr>\n      <th>6</th>\n      <td>6</td>\n      <td>50714</td>\n    </tr>\n    <tr>\n      <th>7</th>\n      <td>7</td>\n      <td>57048</td>\n    </tr>\n    <tr>\n      <th>8</th>\n      <td>8</td>\n      <td>54919</td>\n    </tr>\n    <tr>\n      <th>9</th>\n      <td>9</td>\n      <td>62463</td>\n    </tr>\n    <tr>\n      <th>10</th>\n      <td>10</td>\n      <td>93391</td>\n    </tr>\n    <tr>\n      <th>11</th>\n      <td>11</td>\n      <td>69740</td>\n    </tr>\n    <tr>\n      <th>12</th>\n      <td>12</td>\n      <td>64297</td>\n    </tr>\n    <tr>\n      <th>13</th>\n      <td>13</td>\n      <td>50570</td>\n    </tr>\n    <tr>\n      <th>14</th>\n      <td>14</td>\n      <td>57658</td>\n    </tr>\n    <tr>\n      <th>15</th>\n      <td>15</td>\n      <td>106386</td>\n    </tr>\n    <tr>\n      <th>16</th>\n      <td>16</td>\n      <td>67549</td>\n    </tr>\n    <tr>\n      <th>17</th>\n      <td>17</td>\n      <td>55300</td>\n    </tr>\n    <tr>\n      <th>18</th>\n      <td>18</td>\n      <td>40859</td>\n    </tr>\n    <tr>\n      <th>19</th>\n      <td>19</td>\n      <td>47680</td>\n    </tr>\n    <tr>\n      <th>20</th>\n      <td>20</td>\n      <td>61402</td>\n    </tr>\n    <tr>\n      <th>21</th>\n      <td>21</td>\n      <td>53272</td>\n    </tr>\n    <tr>\n      <th>22</th>\n      <td>22</td>\n      <td>48655</td>\n    </tr>\n    <tr>\n      <th>23</th>\n      <td>23</td>\n      <td>59842</td>\n    </tr>\n    <tr>\n      <th>24</th>\n      <td>24</td>\n      <td>39986</td>\n    </tr>\n    <tr>\n      <th>25</th>\n      <td>25</td>\n      <td>44488</td>\n    </tr>\n    <tr>\n      <th>26</th>\n      <td>26</td>\n      <td>44087</td>\n    </tr>\n    <tr>\n      <th>27</th>\n      <td>27</td>\n      <td>42916</td>\n    </tr>\n    <tr>\n      <th>28</th>\n      <td>28</td>\n      <td>41187</td>\n    </tr>\n    <tr>\n      <th>29</th>\n      <td>29</td>\n      <td>52174</td>\n    </tr>\n    <tr>\n      <th>...</th>\n      <td>...</td>\n      <td>...</td>\n    </tr>\n    <tr>\n      <th>111</th>\n      <td>111</td>\n      <td>46154</td>\n    </tr>\n    <tr>\n      <th>112</th>\n      <td>112</td>\n      <td>37540</td>\n    </tr>\n    <tr>\n      <th>113</th>\n      <td>113</td>\n      <td>41356</td>\n    </tr>\n    <tr>\n      <th>114</th>\n      <td>114</td>\n      <td>58158</td>\n    </tr>\n    <tr>\n      <th>115</th>\n      <td>115</td>\n      <td>43790</td>\n    </tr>\n    <tr>\n      <th>116</th>\n      <td>116</td>\n      <td>55755</td>\n    </tr>\n    <tr>\n      <th>117</th>\n      <td>117</td>\n      <td>49769</td>\n    </tr>\n    <tr>\n      <th>118</th>\n      <td>118</td>\n      <td>46095</td>\n    </tr>\n    <tr>\n      <th>119</th>\n      <td>119</td>\n      <td>53752</td>\n    </tr>\n    <tr>\n      <th>120</th>\n      <td>120</td>\n      <td>53716</td>\n    </tr>\n    <tr>\n      <th>121</th>\n      <td>121</td>\n      <td>32079</td>\n    </tr>\n    <tr>\n      <th>122</th>\n      <td>122</td>\n      <td>57017</td>\n    </tr>\n    <tr>\n      <th>123</th>\n      <td>123</td>\n      <td>60384</td>\n    </tr>\n    <tr>\n      <th>124</th>\n      <td>124</td>\n      <td>41776</td>\n    </tr>\n    <tr>\n      <th>125</th>\n      <td>125</td>\n      <td>42971</td>\n    </tr>\n    <tr>\n      <th>126</th>\n      <td>126</td>\n      <td>47630</td>\n    </tr>\n    <tr>\n      <th>127</th>\n      <td>127</td>\n      <td>51254</td>\n    </tr>\n    <tr>\n      <th>128</th>\n      <td>128</td>\n      <td>53886</td>\n    </tr>\n    <tr>\n      <th>129</th>\n      <td>129</td>\n      <td>55893</td>\n    </tr>\n    <tr>\n      <th>130</th>\n      <td>130</td>\n      <td>55464</td>\n    </tr>\n    <tr>\n      <th>131</th>\n      <td>131</td>\n      <td>72784</td>\n    </tr>\n    <tr>\n      <th>132</th>\n      <td>132</td>\n      <td>53425</td>\n    </tr>\n    <tr>\n      <th>133</th>\n      <td>133</td>\n      <td>86816</td>\n    </tr>\n    <tr>\n      <th>134</th>\n      <td>134</td>\n      <td>87321</td>\n    </tr>\n    <tr>\n      <th>135</th>\n      <td>135</td>\n      <td>50069</td>\n    </tr>\n    <tr>\n      <th>136</th>\n      <td>136</td>\n      <td>46803</td>\n    </tr>\n    <tr>\n      <th>137</th>\n      <td>137</td>\n      <td>47908</td>\n    </tr>\n    <tr>\n      <th>138</th>\n      <td>138</td>\n      <td>42790</td>\n    </tr>\n    <tr>\n      <th>139</th>\n      <td>139</td>\n      <td>40181</td>\n    </tr>\n    <tr>\n      <th>140</th>\n      <td>140</td>\n      <td>67678</td>\n    </tr>\n  </tbody>\n</table>\n<p>141 rows \u00d7 2 columns</p>\n</div>", 
                        "text/plain": "    Neighbourhood Id     Income\n0                 ID  incprhh58\n1                  1      59703\n2                  2      46986\n3                  3      57522\n4                  4      51194\n5                  5      49425\n6                  6      50714\n7                  7      57048\n8                  8      54919\n9                  9      62463\n10                10      93391\n11                11      69740\n12                12      64297\n13                13      50570\n14                14      57658\n15                15     106386\n16                16      67549\n17                17      55300\n18                18      40859\n19                19      47680\n20                20      61402\n21                21      53272\n22                22      48655\n23                23      59842\n24                24      39986\n25                25      44488\n26                26      44087\n27                27      42916\n28                28      41187\n29                29      52174\n..               ...        ...\n111              111      46154\n112              112      37540\n113              113      41356\n114              114      58158\n115              115      43790\n116              116      55755\n117              117      49769\n118              118      46095\n119              119      53752\n120              120      53716\n121              121      32079\n122              122      57017\n123              123      60384\n124              124      41776\n125              125      42971\n126              126      47630\n127              127      51254\n128              128      53886\n129              129      55893\n130              130      55464\n131              131      72784\n132              132      53425\n133              133      86816\n134              134      87321\n135              135      50069\n136              136      46803\n137              137      47908\n138              138      42790\n139              139      40181\n140              140      67678\n\n[141 rows x 2 columns]"
                    }, 
                    "output_type": "execute_result"
                }
            ], 
            "source": "df_income_neigh.rename(columns= {\"Hood#\":\"Neighbourhood Id\",\"  Median after-tax household income $\":\"Income\"})"
        }, 
        {
            "execution_count": 21, 
            "cell_type": "code", 
            "metadata": {
                "scrolled": true
            }, 
            "outputs": [
                {
                    "execution_count": 21, 
                    "metadata": {}, 
                    "data": {
                        "text/html": "<div>\n<style scoped>\n    .dataframe tbody tr th:only-of-type {\n        vertical-align: middle;\n    }\n\n    .dataframe tbody tr th {\n        vertical-align: top;\n    }\n\n    .dataframe thead th {\n        text-align: right;\n    }\n</style>\n<table border=\"1\" class=\"dataframe\">\n  <thead>\n    <tr style=\"text-align: right;\">\n      <th></th>\n      <th>Hood#</th>\n      <th>Median after-tax household income $</th>\n    </tr>\n  </thead>\n  <tbody>\n    <tr>\n      <th>1</th>\n      <td>1</td>\n      <td>59703</td>\n    </tr>\n    <tr>\n      <th>2</th>\n      <td>2</td>\n      <td>46986</td>\n    </tr>\n    <tr>\n      <th>3</th>\n      <td>3</td>\n      <td>57522</td>\n    </tr>\n    <tr>\n      <th>4</th>\n      <td>4</td>\n      <td>51194</td>\n    </tr>\n    <tr>\n      <th>5</th>\n      <td>5</td>\n      <td>49425</td>\n    </tr>\n    <tr>\n      <th>6</th>\n      <td>6</td>\n      <td>50714</td>\n    </tr>\n    <tr>\n      <th>7</th>\n      <td>7</td>\n      <td>57048</td>\n    </tr>\n    <tr>\n      <th>8</th>\n      <td>8</td>\n      <td>54919</td>\n    </tr>\n    <tr>\n      <th>9</th>\n      <td>9</td>\n      <td>62463</td>\n    </tr>\n    <tr>\n      <th>10</th>\n      <td>10</td>\n      <td>93391</td>\n    </tr>\n    <tr>\n      <th>11</th>\n      <td>11</td>\n      <td>69740</td>\n    </tr>\n    <tr>\n      <th>12</th>\n      <td>12</td>\n      <td>64297</td>\n    </tr>\n    <tr>\n      <th>13</th>\n      <td>13</td>\n      <td>50570</td>\n    </tr>\n    <tr>\n      <th>14</th>\n      <td>14</td>\n      <td>57658</td>\n    </tr>\n    <tr>\n      <th>15</th>\n      <td>15</td>\n      <td>106386</td>\n    </tr>\n    <tr>\n      <th>16</th>\n      <td>16</td>\n      <td>67549</td>\n    </tr>\n    <tr>\n      <th>17</th>\n      <td>17</td>\n      <td>55300</td>\n    </tr>\n    <tr>\n      <th>18</th>\n      <td>18</td>\n      <td>40859</td>\n    </tr>\n    <tr>\n      <th>19</th>\n      <td>19</td>\n      <td>47680</td>\n    </tr>\n    <tr>\n      <th>20</th>\n      <td>20</td>\n      <td>61402</td>\n    </tr>\n    <tr>\n      <th>21</th>\n      <td>21</td>\n      <td>53272</td>\n    </tr>\n    <tr>\n      <th>22</th>\n      <td>22</td>\n      <td>48655</td>\n    </tr>\n    <tr>\n      <th>23</th>\n      <td>23</td>\n      <td>59842</td>\n    </tr>\n    <tr>\n      <th>24</th>\n      <td>24</td>\n      <td>39986</td>\n    </tr>\n    <tr>\n      <th>25</th>\n      <td>25</td>\n      <td>44488</td>\n    </tr>\n    <tr>\n      <th>26</th>\n      <td>26</td>\n      <td>44087</td>\n    </tr>\n    <tr>\n      <th>27</th>\n      <td>27</td>\n      <td>42916</td>\n    </tr>\n    <tr>\n      <th>28</th>\n      <td>28</td>\n      <td>41187</td>\n    </tr>\n    <tr>\n      <th>29</th>\n      <td>29</td>\n      <td>52174</td>\n    </tr>\n    <tr>\n      <th>30</th>\n      <td>30</td>\n      <td>43512</td>\n    </tr>\n    <tr>\n      <th>...</th>\n      <td>...</td>\n      <td>...</td>\n    </tr>\n    <tr>\n      <th>111</th>\n      <td>111</td>\n      <td>46154</td>\n    </tr>\n    <tr>\n      <th>112</th>\n      <td>112</td>\n      <td>37540</td>\n    </tr>\n    <tr>\n      <th>113</th>\n      <td>113</td>\n      <td>41356</td>\n    </tr>\n    <tr>\n      <th>114</th>\n      <td>114</td>\n      <td>58158</td>\n    </tr>\n    <tr>\n      <th>115</th>\n      <td>115</td>\n      <td>43790</td>\n    </tr>\n    <tr>\n      <th>116</th>\n      <td>116</td>\n      <td>55755</td>\n    </tr>\n    <tr>\n      <th>117</th>\n      <td>117</td>\n      <td>49769</td>\n    </tr>\n    <tr>\n      <th>118</th>\n      <td>118</td>\n      <td>46095</td>\n    </tr>\n    <tr>\n      <th>119</th>\n      <td>119</td>\n      <td>53752</td>\n    </tr>\n    <tr>\n      <th>120</th>\n      <td>120</td>\n      <td>53716</td>\n    </tr>\n    <tr>\n      <th>121</th>\n      <td>121</td>\n      <td>32079</td>\n    </tr>\n    <tr>\n      <th>122</th>\n      <td>122</td>\n      <td>57017</td>\n    </tr>\n    <tr>\n      <th>123</th>\n      <td>123</td>\n      <td>60384</td>\n    </tr>\n    <tr>\n      <th>124</th>\n      <td>124</td>\n      <td>41776</td>\n    </tr>\n    <tr>\n      <th>125</th>\n      <td>125</td>\n      <td>42971</td>\n    </tr>\n    <tr>\n      <th>126</th>\n      <td>126</td>\n      <td>47630</td>\n    </tr>\n    <tr>\n      <th>127</th>\n      <td>127</td>\n      <td>51254</td>\n    </tr>\n    <tr>\n      <th>128</th>\n      <td>128</td>\n      <td>53886</td>\n    </tr>\n    <tr>\n      <th>129</th>\n      <td>129</td>\n      <td>55893</td>\n    </tr>\n    <tr>\n      <th>130</th>\n      <td>130</td>\n      <td>55464</td>\n    </tr>\n    <tr>\n      <th>131</th>\n      <td>131</td>\n      <td>72784</td>\n    </tr>\n    <tr>\n      <th>132</th>\n      <td>132</td>\n      <td>53425</td>\n    </tr>\n    <tr>\n      <th>133</th>\n      <td>133</td>\n      <td>86816</td>\n    </tr>\n    <tr>\n      <th>134</th>\n      <td>134</td>\n      <td>87321</td>\n    </tr>\n    <tr>\n      <th>135</th>\n      <td>135</td>\n      <td>50069</td>\n    </tr>\n    <tr>\n      <th>136</th>\n      <td>136</td>\n      <td>46803</td>\n    </tr>\n    <tr>\n      <th>137</th>\n      <td>137</td>\n      <td>47908</td>\n    </tr>\n    <tr>\n      <th>138</th>\n      <td>138</td>\n      <td>42790</td>\n    </tr>\n    <tr>\n      <th>139</th>\n      <td>139</td>\n      <td>40181</td>\n    </tr>\n    <tr>\n      <th>140</th>\n      <td>140</td>\n      <td>67678</td>\n    </tr>\n  </tbody>\n</table>\n<p>140 rows \u00d7 2 columns</p>\n</div>", 
                        "text/plain": "    Hood#   Median after-tax household income $\n1       1                                 59703\n2       2                                 46986\n3       3                                 57522\n4       4                                 51194\n5       5                                 49425\n6       6                                 50714\n7       7                                 57048\n8       8                                 54919\n9       9                                 62463\n10     10                                 93391\n11     11                                 69740\n12     12                                 64297\n13     13                                 50570\n14     14                                 57658\n15     15                                106386\n16     16                                 67549\n17     17                                 55300\n18     18                                 40859\n19     19                                 47680\n20     20                                 61402\n21     21                                 53272\n22     22                                 48655\n23     23                                 59842\n24     24                                 39986\n25     25                                 44488\n26     26                                 44087\n27     27                                 42916\n28     28                                 41187\n29     29                                 52174\n30     30                                 43512\n..    ...                                   ...\n111   111                                 46154\n112   112                                 37540\n113   113                                 41356\n114   114                                 58158\n115   115                                 43790\n116   116                                 55755\n117   117                                 49769\n118   118                                 46095\n119   119                                 53752\n120   120                                 53716\n121   121                                 32079\n122   122                                 57017\n123   123                                 60384\n124   124                                 41776\n125   125                                 42971\n126   126                                 47630\n127   127                                 51254\n128   128                                 53886\n129   129                                 55893\n130   130                                 55464\n131   131                                 72784\n132   132                                 53425\n133   133                                 86816\n134   134                                 87321\n135   135                                 50069\n136   136                                 46803\n137   137                                 47908\n138   138                                 42790\n139   139                                 40181\n140   140                                 67678\n\n[140 rows x 2 columns]"
                    }, 
                    "output_type": "execute_result"
                }
            ], 
            "source": "df_income_neigh.drop([0],axis=0)"
        }, 
        {
            "source": "# Merge population data", 
            "cell_type": "markdown", 
            "metadata": {}
        }, 
        {
            "execution_count": 22, 
            "cell_type": "code", 
            "metadata": {}, 
            "outputs": [], 
            "source": "df_pop=pd.merge(df_pop_08,df_pop_11,on=['Neighbourhood Id'],how='inner')"
        }, 
        {
            "execution_count": 23, 
            "cell_type": "code", 
            "metadata": {}, 
            "outputs": [
                {
                    "execution_count": 23, 
                    "metadata": {}, 
                    "data": {
                        "text/html": "<div>\n<style scoped>\n    .dataframe tbody tr th:only-of-type {\n        vertical-align: middle;\n    }\n\n    .dataframe tbody tr th {\n        vertical-align: top;\n    }\n\n    .dataframe thead th {\n        text-align: right;\n    }\n</style>\n<table border=\"1\" class=\"dataframe\">\n  <thead>\n    <tr style=\"text-align: right;\">\n      <th></th>\n      <th>Neighbourhood_x</th>\n      <th>Neighbourhood Id</th>\n      <th>Pop 20 - 24 years_x</th>\n      <th>Pop  25 - 29 years_x</th>\n      <th>Total_young_08</th>\n      <th>Neighbourhood_y</th>\n      <th>Pop 20 - 24 years_y</th>\n      <th>Pop  25 - 29 years_y</th>\n      <th>Total_young_11</th>\n    </tr>\n  </thead>\n  <tbody>\n    <tr>\n      <th>0</th>\n      <td>West Humber-Clairville</td>\n      <td>1</td>\n      <td>2565</td>\n      <td>2465</td>\n      <td>5030</td>\n      <td>West Humber-Clairville</td>\n      <td>2855</td>\n      <td>2755</td>\n      <td>5610</td>\n    </tr>\n    <tr>\n      <th>1</th>\n      <td>Mount Olive-Silverstone-Jamestown</td>\n      <td>2</td>\n      <td>2410</td>\n      <td>2590</td>\n      <td>5000</td>\n      <td>Mount Olive-Silverstone-Jamestown</td>\n      <td>2400</td>\n      <td>2335</td>\n      <td>4735</td>\n    </tr>\n    <tr>\n      <th>2</th>\n      <td>Thistletown-Beaumond Heights</td>\n      <td>3</td>\n      <td>655</td>\n      <td>650</td>\n      <td>1305</td>\n      <td>Thistletown-Beaumond Heights</td>\n      <td>675</td>\n      <td>675</td>\n      <td>1350</td>\n    </tr>\n    <tr>\n      <th>3</th>\n      <td>Rexdale-Kipling</td>\n      <td>4</td>\n      <td>630</td>\n      <td>600</td>\n      <td>1230</td>\n      <td>Rexdale-Kipling</td>\n      <td>650</td>\n      <td>645</td>\n      <td>1295</td>\n    </tr>\n    <tr>\n      <th>4</th>\n      <td>Elms-Old Rexdale</td>\n      <td>5</td>\n      <td>615</td>\n      <td>645</td>\n      <td>1260</td>\n      <td>Elms-Old Rexdale</td>\n      <td>655</td>\n      <td>570</td>\n      <td>1225</td>\n    </tr>\n  </tbody>\n</table>\n</div>", 
                        "text/plain": "                     Neighbourhood_x  Neighbourhood Id  Pop 20 - 24 years_x  \\\n0             West Humber-Clairville                 1                 2565   \n1  Mount Olive-Silverstone-Jamestown                 2                 2410   \n2       Thistletown-Beaumond Heights                 3                  655   \n3                    Rexdale-Kipling                 4                  630   \n4                   Elms-Old Rexdale                 5                  615   \n\n   Pop  25 - 29 years_x  Total_young_08                    Neighbourhood_y  \\\n0                  2465            5030             West Humber-Clairville   \n1                  2590            5000  Mount Olive-Silverstone-Jamestown   \n2                   650            1305       Thistletown-Beaumond Heights   \n3                   600            1230                    Rexdale-Kipling   \n4                   645            1260                   Elms-Old Rexdale   \n\n   Pop 20 - 24 years_y  Pop  25 - 29 years_y  Total_young_11  \n0                 2855                  2755            5610  \n1                 2400                  2335            4735  \n2                  675                   675            1350  \n3                  650                   645            1295  \n4                  655                   570            1225  "
                    }, 
                    "output_type": "execute_result"
                }
            ], 
            "source": "df_pop.head()"
        }, 
        {
            "execution_count": 24, 
            "cell_type": "code", 
            "metadata": {}, 
            "outputs": [], 
            "source": "df_pop=df_pop.filter(['Neighbourhood_x','Neighbourhood Id','Total_young_08','Total_young_11'],axis=1)"
        }, 
        {
            "execution_count": 25, 
            "cell_type": "code", 
            "metadata": {}, 
            "outputs": [
                {
                    "execution_count": 25, 
                    "metadata": {}, 
                    "data": {
                        "text/html": "<div>\n<style scoped>\n    .dataframe tbody tr th:only-of-type {\n        vertical-align: middle;\n    }\n\n    .dataframe tbody tr th {\n        vertical-align: top;\n    }\n\n    .dataframe thead th {\n        text-align: right;\n    }\n</style>\n<table border=\"1\" class=\"dataframe\">\n  <thead>\n    <tr style=\"text-align: right;\">\n      <th></th>\n      <th>Neighbourhood_x</th>\n      <th>Neighbourhood Id</th>\n      <th>Total_young_08</th>\n      <th>Total_young_11</th>\n    </tr>\n  </thead>\n  <tbody>\n    <tr>\n      <th>0</th>\n      <td>West Humber-Clairville</td>\n      <td>1</td>\n      <td>5030</td>\n      <td>5610</td>\n    </tr>\n    <tr>\n      <th>1</th>\n      <td>Mount Olive-Silverstone-Jamestown</td>\n      <td>2</td>\n      <td>5000</td>\n      <td>4735</td>\n    </tr>\n    <tr>\n      <th>2</th>\n      <td>Thistletown-Beaumond Heights</td>\n      <td>3</td>\n      <td>1305</td>\n      <td>1350</td>\n    </tr>\n    <tr>\n      <th>3</th>\n      <td>Rexdale-Kipling</td>\n      <td>4</td>\n      <td>1230</td>\n      <td>1295</td>\n    </tr>\n    <tr>\n      <th>4</th>\n      <td>Elms-Old Rexdale</td>\n      <td>5</td>\n      <td>1260</td>\n      <td>1225</td>\n    </tr>\n  </tbody>\n</table>\n</div>", 
                        "text/plain": "                     Neighbourhood_x  Neighbourhood Id  Total_young_08  \\\n0             West Humber-Clairville                 1            5030   \n1  Mount Olive-Silverstone-Jamestown                 2            5000   \n2       Thistletown-Beaumond Heights                 3            1305   \n3                    Rexdale-Kipling                 4            1230   \n4                   Elms-Old Rexdale                 5            1260   \n\n   Total_young_11  \n0            5610  \n1            4735  \n2            1350  \n3            1295  \n4            1225  "
                    }, 
                    "output_type": "execute_result"
                }
            ], 
            "source": "df_pop.head()"
        }, 
        {
            "execution_count": 26, 
            "cell_type": "code", 
            "metadata": {
                "scrolled": true
            }, 
            "outputs": [
                {
                    "execution_count": 26, 
                    "metadata": {}, 
                    "data": {
                        "text/html": "<div>\n<style scoped>\n    .dataframe tbody tr th:only-of-type {\n        vertical-align: middle;\n    }\n\n    .dataframe tbody tr th {\n        vertical-align: top;\n    }\n\n    .dataframe thead th {\n        text-align: right;\n    }\n</style>\n<table border=\"1\" class=\"dataframe\">\n  <thead>\n    <tr style=\"text-align: right;\">\n      <th></th>\n      <th>Neighbourhood</th>\n      <th>Neighbourhood Id</th>\n      <th>Total_young_08</th>\n      <th>Total_young_11</th>\n    </tr>\n  </thead>\n  <tbody>\n    <tr>\n      <th>0</th>\n      <td>West Humber-Clairville</td>\n      <td>1</td>\n      <td>5030</td>\n      <td>5610</td>\n    </tr>\n    <tr>\n      <th>1</th>\n      <td>Mount Olive-Silverstone-Jamestown</td>\n      <td>2</td>\n      <td>5000</td>\n      <td>4735</td>\n    </tr>\n    <tr>\n      <th>2</th>\n      <td>Thistletown-Beaumond Heights</td>\n      <td>3</td>\n      <td>1305</td>\n      <td>1350</td>\n    </tr>\n    <tr>\n      <th>3</th>\n      <td>Rexdale-Kipling</td>\n      <td>4</td>\n      <td>1230</td>\n      <td>1295</td>\n    </tr>\n    <tr>\n      <th>4</th>\n      <td>Elms-Old Rexdale</td>\n      <td>5</td>\n      <td>1260</td>\n      <td>1225</td>\n    </tr>\n    <tr>\n      <th>5</th>\n      <td>Kingsview Village-The Westway</td>\n      <td>6</td>\n      <td>2850</td>\n      <td>2820</td>\n    </tr>\n    <tr>\n      <th>6</th>\n      <td>Willowridge-Martingrove-Richview</td>\n      <td>7</td>\n      <td>2345</td>\n      <td>2590</td>\n    </tr>\n    <tr>\n      <th>7</th>\n      <td>Humber Heights-Westmount</td>\n      <td>8</td>\n      <td>975</td>\n      <td>1050</td>\n    </tr>\n    <tr>\n      <th>8</th>\n      <td>Edenbridge-Humber Valley</td>\n      <td>9</td>\n      <td>1810</td>\n      <td>1875</td>\n    </tr>\n    <tr>\n      <th>9</th>\n      <td>Princess-Rosethorn</td>\n      <td>10</td>\n      <td>1130</td>\n      <td>1230</td>\n    </tr>\n    <tr>\n      <th>10</th>\n      <td>Eringate-Centennial-West Deane</td>\n      <td>11</td>\n      <td>2065</td>\n      <td>2120</td>\n    </tr>\n    <tr>\n      <th>11</th>\n      <td>Markland Wood</td>\n      <td>12</td>\n      <td>1020</td>\n      <td>1065</td>\n    </tr>\n    <tr>\n      <th>12</th>\n      <td>Etobicoke West Mall</td>\n      <td>13</td>\n      <td>1275</td>\n      <td>1355</td>\n    </tr>\n    <tr>\n      <th>13</th>\n      <td>Islington-City Centre West</td>\n      <td>14</td>\n      <td>4160</td>\n      <td>5250</td>\n    </tr>\n    <tr>\n      <th>14</th>\n      <td>Kingsway South</td>\n      <td>15</td>\n      <td>775</td>\n      <td>790</td>\n    </tr>\n    <tr>\n      <th>15</th>\n      <td>Stonegate-Queensway</td>\n      <td>16</td>\n      <td>2315</td>\n      <td>2460</td>\n    </tr>\n    <tr>\n      <th>16</th>\n      <td>Mimico</td>\n      <td>17</td>\n      <td>3130</td>\n      <td>3455</td>\n    </tr>\n    <tr>\n      <th>17</th>\n      <td>New Toronto</td>\n      <td>18</td>\n      <td>1420</td>\n      <td>1530</td>\n    </tr>\n    <tr>\n      <th>18</th>\n      <td>Long Branch</td>\n      <td>19</td>\n      <td>1225</td>\n      <td>1280</td>\n    </tr>\n    <tr>\n      <th>19</th>\n      <td>Alderwood</td>\n      <td>20</td>\n      <td>1340</td>\n      <td>1365</td>\n    </tr>\n    <tr>\n      <th>20</th>\n      <td>Humber Summit</td>\n      <td>21</td>\n      <td>1675</td>\n      <td>1635</td>\n    </tr>\n    <tr>\n      <th>21</th>\n      <td>Humbermede</td>\n      <td>22</td>\n      <td>2130</td>\n      <td>2280</td>\n    </tr>\n    <tr>\n      <th>22</th>\n      <td>Pelmo Park-Humberlea</td>\n      <td>23</td>\n      <td>1025</td>\n      <td>995</td>\n    </tr>\n    <tr>\n      <th>23</th>\n      <td>Black Creek</td>\n      <td>24</td>\n      <td>3305</td>\n      <td>3335</td>\n    </tr>\n    <tr>\n      <th>24</th>\n      <td>Glenfield-Jane Heights</td>\n      <td>25</td>\n      <td>4135</td>\n      <td>4155</td>\n    </tr>\n    <tr>\n      <th>25</th>\n      <td>Downsview-Roding-CFB</td>\n      <td>26</td>\n      <td>4495</td>\n      <td>4675</td>\n    </tr>\n    <tr>\n      <th>26</th>\n      <td>York University Heights</td>\n      <td>27</td>\n      <td>5155</td>\n      <td>6095</td>\n    </tr>\n    <tr>\n      <th>27</th>\n      <td>Rustic</td>\n      <td>28</td>\n      <td>1205</td>\n      <td>1265</td>\n    </tr>\n    <tr>\n      <th>28</th>\n      <td>Maple Leaf</td>\n      <td>29</td>\n      <td>1310</td>\n      <td>1220</td>\n    </tr>\n    <tr>\n      <th>29</th>\n      <td>Brookhaven-Amesbury</td>\n      <td>30</td>\n      <td>2515</td>\n      <td>2575</td>\n    </tr>\n    <tr>\n      <th>...</th>\n      <td>...</td>\n      <td>...</td>\n      <td>...</td>\n      <td>...</td>\n    </tr>\n    <tr>\n      <th>110</th>\n      <td>Rockcliffe-Smythe</td>\n      <td>111</td>\n      <td>2845</td>\n      <td>2985</td>\n    </tr>\n    <tr>\n      <th>111</th>\n      <td>Beechborough-Greenbrook</td>\n      <td>112</td>\n      <td>955</td>\n      <td>990</td>\n    </tr>\n    <tr>\n      <th>112</th>\n      <td>Weston</td>\n      <td>113</td>\n      <td>2425</td>\n      <td>2690</td>\n    </tr>\n    <tr>\n      <th>113</th>\n      <td>Lambton Baby Point</td>\n      <td>114</td>\n      <td>900</td>\n      <td>840</td>\n    </tr>\n    <tr>\n      <th>114</th>\n      <td>Mount Dennis</td>\n      <td>115</td>\n      <td>1885</td>\n      <td>1970</td>\n    </tr>\n    <tr>\n      <th>115</th>\n      <td>Steeles</td>\n      <td>116</td>\n      <td>3625</td>\n      <td>3830</td>\n    </tr>\n    <tr>\n      <th>116</th>\n      <td>L'Amoreaux</td>\n      <td>117</td>\n      <td>6095</td>\n      <td>6200</td>\n    </tr>\n    <tr>\n      <th>117</th>\n      <td>Tam O'Shanter-Sullivan</td>\n      <td>118</td>\n      <td>3130</td>\n      <td>3430</td>\n    </tr>\n    <tr>\n      <th>118</th>\n      <td>Wexford/Maryvale</td>\n      <td>119</td>\n      <td>3125</td>\n      <td>3330</td>\n    </tr>\n    <tr>\n      <th>119</th>\n      <td>Clairlea-Birchmount</td>\n      <td>120</td>\n      <td>2475</td>\n      <td>3305</td>\n    </tr>\n    <tr>\n      <th>120</th>\n      <td>Oakridge</td>\n      <td>121</td>\n      <td>1765</td>\n      <td>1765</td>\n    </tr>\n    <tr>\n      <th>121</th>\n      <td>Birchcliffe-Cliffside</td>\n      <td>122</td>\n      <td>2245</td>\n      <td>2315</td>\n    </tr>\n    <tr>\n      <th>122</th>\n      <td>Cliffcrest</td>\n      <td>123</td>\n      <td>1530</td>\n      <td>1775</td>\n    </tr>\n    <tr>\n      <th>123</th>\n      <td>Kennedy Park</td>\n      <td>124</td>\n      <td>2120</td>\n      <td>2165</td>\n    </tr>\n    <tr>\n      <th>124</th>\n      <td>Ionview</td>\n      <td>125</td>\n      <td>1735</td>\n      <td>1905</td>\n    </tr>\n    <tr>\n      <th>125</th>\n      <td>Dorset Park</td>\n      <td>126</td>\n      <td>3270</td>\n      <td>3200</td>\n    </tr>\n    <tr>\n      <th>126</th>\n      <td>Bendale</td>\n      <td>127</td>\n      <td>3595</td>\n      <td>4115</td>\n    </tr>\n    <tr>\n      <th>127</th>\n      <td>Agincourt South-Malvern West</td>\n      <td>128</td>\n      <td>2985</td>\n      <td>3130</td>\n    </tr>\n    <tr>\n      <th>128</th>\n      <td>Agincourt North</td>\n      <td>129</td>\n      <td>4290</td>\n      <td>4310</td>\n    </tr>\n    <tr>\n      <th>129</th>\n      <td>Milliken</td>\n      <td>130</td>\n      <td>3930</td>\n      <td>4075</td>\n    </tr>\n    <tr>\n      <th>130</th>\n      <td>Rouge</td>\n      <td>131</td>\n      <td>6445</td>\n      <td>6740</td>\n    </tr>\n    <tr>\n      <th>131</th>\n      <td>Malvern</td>\n      <td>132</td>\n      <td>6540</td>\n      <td>6870</td>\n    </tr>\n    <tr>\n      <th>132</th>\n      <td>Centennial Scarborough</td>\n      <td>133</td>\n      <td>1585</td>\n      <td>1590</td>\n    </tr>\n    <tr>\n      <th>133</th>\n      <td>Highland Creek</td>\n      <td>134</td>\n      <td>2170</td>\n      <td>2150</td>\n    </tr>\n    <tr>\n      <th>134</th>\n      <td>Morningside</td>\n      <td>135</td>\n      <td>4620</td>\n      <td>2710</td>\n    </tr>\n    <tr>\n      <th>135</th>\n      <td>West Hill</td>\n      <td>136</td>\n      <td>3285</td>\n      <td>3470</td>\n    </tr>\n    <tr>\n      <th>136</th>\n      <td>Woburn</td>\n      <td>137</td>\n      <td>5215</td>\n      <td>7830</td>\n    </tr>\n    <tr>\n      <th>137</th>\n      <td>Eglinton East</td>\n      <td>138</td>\n      <td>3070</td>\n      <td>2985</td>\n    </tr>\n    <tr>\n      <th>138</th>\n      <td>Scarborough Village</td>\n      <td>139</td>\n      <td>2025</td>\n      <td>2255</td>\n    </tr>\n    <tr>\n      <th>139</th>\n      <td>Guildwood</td>\n      <td>140</td>\n      <td>950</td>\n      <td>905</td>\n    </tr>\n  </tbody>\n</table>\n<p>140 rows \u00d7 4 columns</p>\n</div>", 
                        "text/plain": "                         Neighbourhood  Neighbourhood Id  Total_young_08  \\\n0               West Humber-Clairville                 1            5030   \n1    Mount Olive-Silverstone-Jamestown                 2            5000   \n2         Thistletown-Beaumond Heights                 3            1305   \n3                      Rexdale-Kipling                 4            1230   \n4                     Elms-Old Rexdale                 5            1260   \n5        Kingsview Village-The Westway                 6            2850   \n6     Willowridge-Martingrove-Richview                 7            2345   \n7             Humber Heights-Westmount                 8             975   \n8             Edenbridge-Humber Valley                 9            1810   \n9                   Princess-Rosethorn                10            1130   \n10      Eringate-Centennial-West Deane                11            2065   \n11                       Markland Wood                12            1020   \n12                 Etobicoke West Mall                13            1275   \n13          Islington-City Centre West                14            4160   \n14                      Kingsway South                15             775   \n15                 Stonegate-Queensway                16            2315   \n16                              Mimico                17            3130   \n17                         New Toronto                18            1420   \n18                         Long Branch                19            1225   \n19                           Alderwood                20            1340   \n20                       Humber Summit                21            1675   \n21                          Humbermede                22            2130   \n22                Pelmo Park-Humberlea                23            1025   \n23                         Black Creek                24            3305   \n24              Glenfield-Jane Heights                25            4135   \n25                Downsview-Roding-CFB                26            4495   \n26             York University Heights                27            5155   \n27                              Rustic                28            1205   \n28                          Maple Leaf                29            1310   \n29                 Brookhaven-Amesbury                30            2515   \n..                                 ...               ...             ...   \n110                  Rockcliffe-Smythe               111            2845   \n111            Beechborough-Greenbrook               112             955   \n112                             Weston               113            2425   \n113                 Lambton Baby Point               114             900   \n114                       Mount Dennis               115            1885   \n115                            Steeles               116            3625   \n116                         L'Amoreaux               117            6095   \n117             Tam O'Shanter-Sullivan               118            3130   \n118                   Wexford/Maryvale               119            3125   \n119                Clairlea-Birchmount               120            2475   \n120                           Oakridge               121            1765   \n121              Birchcliffe-Cliffside               122            2245   \n122                         Cliffcrest               123            1530   \n123                       Kennedy Park               124            2120   \n124                            Ionview               125            1735   \n125                        Dorset Park               126            3270   \n126                            Bendale               127            3595   \n127       Agincourt South-Malvern West               128            2985   \n128                    Agincourt North               129            4290   \n129                           Milliken               130            3930   \n130                              Rouge               131            6445   \n131                            Malvern               132            6540   \n132             Centennial Scarborough               133            1585   \n133                     Highland Creek               134            2170   \n134                        Morningside               135            4620   \n135                          West Hill               136            3285   \n136                             Woburn               137            5215   \n137                      Eglinton East               138            3070   \n138                Scarborough Village               139            2025   \n139                          Guildwood               140             950   \n\n     Total_young_11  \n0              5610  \n1              4735  \n2              1350  \n3              1295  \n4              1225  \n5              2820  \n6              2590  \n7              1050  \n8              1875  \n9              1230  \n10             2120  \n11             1065  \n12             1355  \n13             5250  \n14              790  \n15             2460  \n16             3455  \n17             1530  \n18             1280  \n19             1365  \n20             1635  \n21             2280  \n22              995  \n23             3335  \n24             4155  \n25             4675  \n26             6095  \n27             1265  \n28             1220  \n29             2575  \n..              ...  \n110            2985  \n111             990  \n112            2690  \n113             840  \n114            1970  \n115            3830  \n116            6200  \n117            3430  \n118            3330  \n119            3305  \n120            1765  \n121            2315  \n122            1775  \n123            2165  \n124            1905  \n125            3200  \n126            4115  \n127            3130  \n128            4310  \n129            4075  \n130            6740  \n131            6870  \n132            1590  \n133            2150  \n134            2710  \n135            3470  \n136            7830  \n137            2985  \n138            2255  \n139             905  \n\n[140 rows x 4 columns]"
                    }, 
                    "output_type": "execute_result"
                }
            ], 
            "source": "df_pop.rename(columns= {\"Neighbourhood_x\":\"Neighbourhood\"})"
        }, 
        {
            "source": "# Process income data", 
            "cell_type": "markdown", 
            "metadata": {}
        }, 
        {
            "execution_count": 27, 
            "cell_type": "code", 
            "metadata": {
                "scrolled": true
            }, 
            "outputs": [
                {
                    "execution_count": 27, 
                    "metadata": {}, 
                    "data": {
                        "text/html": "<div>\n<style scoped>\n    .dataframe tbody tr th:only-of-type {\n        vertical-align: middle;\n    }\n\n    .dataframe tbody tr th {\n        vertical-align: top;\n    }\n\n    .dataframe thead th {\n        text-align: right;\n    }\n</style>\n<table border=\"1\" class=\"dataframe\">\n  <thead>\n    <tr style=\"text-align: right;\">\n      <th></th>\n      <th>Neighbourhood Id</th>\n      <th>Income</th>\n    </tr>\n  </thead>\n  <tbody>\n    <tr>\n      <th>0</th>\n      <td>ID</td>\n      <td>incprhh58</td>\n    </tr>\n    <tr>\n      <th>1</th>\n      <td>1</td>\n      <td>59703</td>\n    </tr>\n    <tr>\n      <th>2</th>\n      <td>2</td>\n      <td>46986</td>\n    </tr>\n    <tr>\n      <th>3</th>\n      <td>3</td>\n      <td>57522</td>\n    </tr>\n    <tr>\n      <th>4</th>\n      <td>4</td>\n      <td>51194</td>\n    </tr>\n    <tr>\n      <th>5</th>\n      <td>5</td>\n      <td>49425</td>\n    </tr>\n    <tr>\n      <th>6</th>\n      <td>6</td>\n      <td>50714</td>\n    </tr>\n    <tr>\n      <th>7</th>\n      <td>7</td>\n      <td>57048</td>\n    </tr>\n    <tr>\n      <th>8</th>\n      <td>8</td>\n      <td>54919</td>\n    </tr>\n    <tr>\n      <th>9</th>\n      <td>9</td>\n      <td>62463</td>\n    </tr>\n    <tr>\n      <th>10</th>\n      <td>10</td>\n      <td>93391</td>\n    </tr>\n    <tr>\n      <th>11</th>\n      <td>11</td>\n      <td>69740</td>\n    </tr>\n    <tr>\n      <th>12</th>\n      <td>12</td>\n      <td>64297</td>\n    </tr>\n    <tr>\n      <th>13</th>\n      <td>13</td>\n      <td>50570</td>\n    </tr>\n    <tr>\n      <th>14</th>\n      <td>14</td>\n      <td>57658</td>\n    </tr>\n    <tr>\n      <th>15</th>\n      <td>15</td>\n      <td>106386</td>\n    </tr>\n    <tr>\n      <th>16</th>\n      <td>16</td>\n      <td>67549</td>\n    </tr>\n    <tr>\n      <th>17</th>\n      <td>17</td>\n      <td>55300</td>\n    </tr>\n    <tr>\n      <th>18</th>\n      <td>18</td>\n      <td>40859</td>\n    </tr>\n    <tr>\n      <th>19</th>\n      <td>19</td>\n      <td>47680</td>\n    </tr>\n    <tr>\n      <th>20</th>\n      <td>20</td>\n      <td>61402</td>\n    </tr>\n    <tr>\n      <th>21</th>\n      <td>21</td>\n      <td>53272</td>\n    </tr>\n    <tr>\n      <th>22</th>\n      <td>22</td>\n      <td>48655</td>\n    </tr>\n    <tr>\n      <th>23</th>\n      <td>23</td>\n      <td>59842</td>\n    </tr>\n    <tr>\n      <th>24</th>\n      <td>24</td>\n      <td>39986</td>\n    </tr>\n    <tr>\n      <th>25</th>\n      <td>25</td>\n      <td>44488</td>\n    </tr>\n    <tr>\n      <th>26</th>\n      <td>26</td>\n      <td>44087</td>\n    </tr>\n    <tr>\n      <th>27</th>\n      <td>27</td>\n      <td>42916</td>\n    </tr>\n    <tr>\n      <th>28</th>\n      <td>28</td>\n      <td>41187</td>\n    </tr>\n    <tr>\n      <th>29</th>\n      <td>29</td>\n      <td>52174</td>\n    </tr>\n    <tr>\n      <th>...</th>\n      <td>...</td>\n      <td>...</td>\n    </tr>\n    <tr>\n      <th>111</th>\n      <td>111</td>\n      <td>46154</td>\n    </tr>\n    <tr>\n      <th>112</th>\n      <td>112</td>\n      <td>37540</td>\n    </tr>\n    <tr>\n      <th>113</th>\n      <td>113</td>\n      <td>41356</td>\n    </tr>\n    <tr>\n      <th>114</th>\n      <td>114</td>\n      <td>58158</td>\n    </tr>\n    <tr>\n      <th>115</th>\n      <td>115</td>\n      <td>43790</td>\n    </tr>\n    <tr>\n      <th>116</th>\n      <td>116</td>\n      <td>55755</td>\n    </tr>\n    <tr>\n      <th>117</th>\n      <td>117</td>\n      <td>49769</td>\n    </tr>\n    <tr>\n      <th>118</th>\n      <td>118</td>\n      <td>46095</td>\n    </tr>\n    <tr>\n      <th>119</th>\n      <td>119</td>\n      <td>53752</td>\n    </tr>\n    <tr>\n      <th>120</th>\n      <td>120</td>\n      <td>53716</td>\n    </tr>\n    <tr>\n      <th>121</th>\n      <td>121</td>\n      <td>32079</td>\n    </tr>\n    <tr>\n      <th>122</th>\n      <td>122</td>\n      <td>57017</td>\n    </tr>\n    <tr>\n      <th>123</th>\n      <td>123</td>\n      <td>60384</td>\n    </tr>\n    <tr>\n      <th>124</th>\n      <td>124</td>\n      <td>41776</td>\n    </tr>\n    <tr>\n      <th>125</th>\n      <td>125</td>\n      <td>42971</td>\n    </tr>\n    <tr>\n      <th>126</th>\n      <td>126</td>\n      <td>47630</td>\n    </tr>\n    <tr>\n      <th>127</th>\n      <td>127</td>\n      <td>51254</td>\n    </tr>\n    <tr>\n      <th>128</th>\n      <td>128</td>\n      <td>53886</td>\n    </tr>\n    <tr>\n      <th>129</th>\n      <td>129</td>\n      <td>55893</td>\n    </tr>\n    <tr>\n      <th>130</th>\n      <td>130</td>\n      <td>55464</td>\n    </tr>\n    <tr>\n      <th>131</th>\n      <td>131</td>\n      <td>72784</td>\n    </tr>\n    <tr>\n      <th>132</th>\n      <td>132</td>\n      <td>53425</td>\n    </tr>\n    <tr>\n      <th>133</th>\n      <td>133</td>\n      <td>86816</td>\n    </tr>\n    <tr>\n      <th>134</th>\n      <td>134</td>\n      <td>87321</td>\n    </tr>\n    <tr>\n      <th>135</th>\n      <td>135</td>\n      <td>50069</td>\n    </tr>\n    <tr>\n      <th>136</th>\n      <td>136</td>\n      <td>46803</td>\n    </tr>\n    <tr>\n      <th>137</th>\n      <td>137</td>\n      <td>47908</td>\n    </tr>\n    <tr>\n      <th>138</th>\n      <td>138</td>\n      <td>42790</td>\n    </tr>\n    <tr>\n      <th>139</th>\n      <td>139</td>\n      <td>40181</td>\n    </tr>\n    <tr>\n      <th>140</th>\n      <td>140</td>\n      <td>67678</td>\n    </tr>\n  </tbody>\n</table>\n<p>141 rows \u00d7 2 columns</p>\n</div>", 
                        "text/plain": "    Neighbourhood Id     Income\n0                 ID  incprhh58\n1                  1      59703\n2                  2      46986\n3                  3      57522\n4                  4      51194\n5                  5      49425\n6                  6      50714\n7                  7      57048\n8                  8      54919\n9                  9      62463\n10                10      93391\n11                11      69740\n12                12      64297\n13                13      50570\n14                14      57658\n15                15     106386\n16                16      67549\n17                17      55300\n18                18      40859\n19                19      47680\n20                20      61402\n21                21      53272\n22                22      48655\n23                23      59842\n24                24      39986\n25                25      44488\n26                26      44087\n27                27      42916\n28                28      41187\n29                29      52174\n..               ...        ...\n111              111      46154\n112              112      37540\n113              113      41356\n114              114      58158\n115              115      43790\n116              116      55755\n117              117      49769\n118              118      46095\n119              119      53752\n120              120      53716\n121              121      32079\n122              122      57017\n123              123      60384\n124              124      41776\n125              125      42971\n126              126      47630\n127              127      51254\n128              128      53886\n129              129      55893\n130              130      55464\n131              131      72784\n132              132      53425\n133              133      86816\n134              134      87321\n135              135      50069\n136              136      46803\n137              137      47908\n138              138      42790\n139              139      40181\n140              140      67678\n\n[141 rows x 2 columns]"
                    }, 
                    "output_type": "execute_result"
                }
            ], 
            "source": "df_income_neigh.rename(columns= {\"Hood#\":\"Neighbourhood Id\",\"  Median after-tax household income $\":\"Income\"})"
        }, 
        {
            "execution_count": 28, 
            "cell_type": "code", 
            "metadata": {
                "scrolled": true
            }, 
            "outputs": [
                {
                    "execution_count": 28, 
                    "metadata": {}, 
                    "data": {
                        "text/html": "<div>\n<style scoped>\n    .dataframe tbody tr th:only-of-type {\n        vertical-align: middle;\n    }\n\n    .dataframe tbody tr th {\n        vertical-align: top;\n    }\n\n    .dataframe thead th {\n        text-align: right;\n    }\n</style>\n<table border=\"1\" class=\"dataframe\">\n  <thead>\n    <tr style=\"text-align: right;\">\n      <th></th>\n      <th>Hood#</th>\n      <th>Median after-tax household income $</th>\n    </tr>\n  </thead>\n  <tbody>\n    <tr>\n      <th>1</th>\n      <td>1</td>\n      <td>59703</td>\n    </tr>\n    <tr>\n      <th>2</th>\n      <td>2</td>\n      <td>46986</td>\n    </tr>\n    <tr>\n      <th>3</th>\n      <td>3</td>\n      <td>57522</td>\n    </tr>\n    <tr>\n      <th>4</th>\n      <td>4</td>\n      <td>51194</td>\n    </tr>\n    <tr>\n      <th>5</th>\n      <td>5</td>\n      <td>49425</td>\n    </tr>\n    <tr>\n      <th>6</th>\n      <td>6</td>\n      <td>50714</td>\n    </tr>\n    <tr>\n      <th>7</th>\n      <td>7</td>\n      <td>57048</td>\n    </tr>\n    <tr>\n      <th>8</th>\n      <td>8</td>\n      <td>54919</td>\n    </tr>\n    <tr>\n      <th>9</th>\n      <td>9</td>\n      <td>62463</td>\n    </tr>\n    <tr>\n      <th>10</th>\n      <td>10</td>\n      <td>93391</td>\n    </tr>\n    <tr>\n      <th>11</th>\n      <td>11</td>\n      <td>69740</td>\n    </tr>\n    <tr>\n      <th>12</th>\n      <td>12</td>\n      <td>64297</td>\n    </tr>\n    <tr>\n      <th>13</th>\n      <td>13</td>\n      <td>50570</td>\n    </tr>\n    <tr>\n      <th>14</th>\n      <td>14</td>\n      <td>57658</td>\n    </tr>\n    <tr>\n      <th>15</th>\n      <td>15</td>\n      <td>106386</td>\n    </tr>\n    <tr>\n      <th>16</th>\n      <td>16</td>\n      <td>67549</td>\n    </tr>\n    <tr>\n      <th>17</th>\n      <td>17</td>\n      <td>55300</td>\n    </tr>\n    <tr>\n      <th>18</th>\n      <td>18</td>\n      <td>40859</td>\n    </tr>\n    <tr>\n      <th>19</th>\n      <td>19</td>\n      <td>47680</td>\n    </tr>\n    <tr>\n      <th>20</th>\n      <td>20</td>\n      <td>61402</td>\n    </tr>\n    <tr>\n      <th>21</th>\n      <td>21</td>\n      <td>53272</td>\n    </tr>\n    <tr>\n      <th>22</th>\n      <td>22</td>\n      <td>48655</td>\n    </tr>\n    <tr>\n      <th>23</th>\n      <td>23</td>\n      <td>59842</td>\n    </tr>\n    <tr>\n      <th>24</th>\n      <td>24</td>\n      <td>39986</td>\n    </tr>\n    <tr>\n      <th>25</th>\n      <td>25</td>\n      <td>44488</td>\n    </tr>\n    <tr>\n      <th>26</th>\n      <td>26</td>\n      <td>44087</td>\n    </tr>\n    <tr>\n      <th>27</th>\n      <td>27</td>\n      <td>42916</td>\n    </tr>\n    <tr>\n      <th>28</th>\n      <td>28</td>\n      <td>41187</td>\n    </tr>\n    <tr>\n      <th>29</th>\n      <td>29</td>\n      <td>52174</td>\n    </tr>\n    <tr>\n      <th>30</th>\n      <td>30</td>\n      <td>43512</td>\n    </tr>\n    <tr>\n      <th>...</th>\n      <td>...</td>\n      <td>...</td>\n    </tr>\n    <tr>\n      <th>111</th>\n      <td>111</td>\n      <td>46154</td>\n    </tr>\n    <tr>\n      <th>112</th>\n      <td>112</td>\n      <td>37540</td>\n    </tr>\n    <tr>\n      <th>113</th>\n      <td>113</td>\n      <td>41356</td>\n    </tr>\n    <tr>\n      <th>114</th>\n      <td>114</td>\n      <td>58158</td>\n    </tr>\n    <tr>\n      <th>115</th>\n      <td>115</td>\n      <td>43790</td>\n    </tr>\n    <tr>\n      <th>116</th>\n      <td>116</td>\n      <td>55755</td>\n    </tr>\n    <tr>\n      <th>117</th>\n      <td>117</td>\n      <td>49769</td>\n    </tr>\n    <tr>\n      <th>118</th>\n      <td>118</td>\n      <td>46095</td>\n    </tr>\n    <tr>\n      <th>119</th>\n      <td>119</td>\n      <td>53752</td>\n    </tr>\n    <tr>\n      <th>120</th>\n      <td>120</td>\n      <td>53716</td>\n    </tr>\n    <tr>\n      <th>121</th>\n      <td>121</td>\n      <td>32079</td>\n    </tr>\n    <tr>\n      <th>122</th>\n      <td>122</td>\n      <td>57017</td>\n    </tr>\n    <tr>\n      <th>123</th>\n      <td>123</td>\n      <td>60384</td>\n    </tr>\n    <tr>\n      <th>124</th>\n      <td>124</td>\n      <td>41776</td>\n    </tr>\n    <tr>\n      <th>125</th>\n      <td>125</td>\n      <td>42971</td>\n    </tr>\n    <tr>\n      <th>126</th>\n      <td>126</td>\n      <td>47630</td>\n    </tr>\n    <tr>\n      <th>127</th>\n      <td>127</td>\n      <td>51254</td>\n    </tr>\n    <tr>\n      <th>128</th>\n      <td>128</td>\n      <td>53886</td>\n    </tr>\n    <tr>\n      <th>129</th>\n      <td>129</td>\n      <td>55893</td>\n    </tr>\n    <tr>\n      <th>130</th>\n      <td>130</td>\n      <td>55464</td>\n    </tr>\n    <tr>\n      <th>131</th>\n      <td>131</td>\n      <td>72784</td>\n    </tr>\n    <tr>\n      <th>132</th>\n      <td>132</td>\n      <td>53425</td>\n    </tr>\n    <tr>\n      <th>133</th>\n      <td>133</td>\n      <td>86816</td>\n    </tr>\n    <tr>\n      <th>134</th>\n      <td>134</td>\n      <td>87321</td>\n    </tr>\n    <tr>\n      <th>135</th>\n      <td>135</td>\n      <td>50069</td>\n    </tr>\n    <tr>\n      <th>136</th>\n      <td>136</td>\n      <td>46803</td>\n    </tr>\n    <tr>\n      <th>137</th>\n      <td>137</td>\n      <td>47908</td>\n    </tr>\n    <tr>\n      <th>138</th>\n      <td>138</td>\n      <td>42790</td>\n    </tr>\n    <tr>\n      <th>139</th>\n      <td>139</td>\n      <td>40181</td>\n    </tr>\n    <tr>\n      <th>140</th>\n      <td>140</td>\n      <td>67678</td>\n    </tr>\n  </tbody>\n</table>\n<p>140 rows \u00d7 2 columns</p>\n</div>", 
                        "text/plain": "    Hood#   Median after-tax household income $\n1       1                                 59703\n2       2                                 46986\n3       3                                 57522\n4       4                                 51194\n5       5                                 49425\n6       6                                 50714\n7       7                                 57048\n8       8                                 54919\n9       9                                 62463\n10     10                                 93391\n11     11                                 69740\n12     12                                 64297\n13     13                                 50570\n14     14                                 57658\n15     15                                106386\n16     16                                 67549\n17     17                                 55300\n18     18                                 40859\n19     19                                 47680\n20     20                                 61402\n21     21                                 53272\n22     22                                 48655\n23     23                                 59842\n24     24                                 39986\n25     25                                 44488\n26     26                                 44087\n27     27                                 42916\n28     28                                 41187\n29     29                                 52174\n30     30                                 43512\n..    ...                                   ...\n111   111                                 46154\n112   112                                 37540\n113   113                                 41356\n114   114                                 58158\n115   115                                 43790\n116   116                                 55755\n117   117                                 49769\n118   118                                 46095\n119   119                                 53752\n120   120                                 53716\n121   121                                 32079\n122   122                                 57017\n123   123                                 60384\n124   124                                 41776\n125   125                                 42971\n126   126                                 47630\n127   127                                 51254\n128   128                                 53886\n129   129                                 55893\n130   130                                 55464\n131   131                                 72784\n132   132                                 53425\n133   133                                 86816\n134   134                                 87321\n135   135                                 50069\n136   136                                 46803\n137   137                                 47908\n138   138                                 42790\n139   139                                 40181\n140   140                                 67678\n\n[140 rows x 2 columns]"
                    }, 
                    "output_type": "execute_result"
                }
            ], 
            "source": "df_income_neigh.drop([0],axis=0)"
        }, 
        {
            "execution_count": 29, 
            "cell_type": "code", 
            "metadata": {}, 
            "outputs": [], 
            "source": "df_income=df_income_neigh.rename(columns= {\"Hood#\":\"Neighbourhood Id\",\"  Median after-tax household income $\":\"Income\"})"
        }, 
        {
            "execution_count": 30, 
            "cell_type": "code", 
            "metadata": {}, 
            "outputs": [
                {
                    "execution_count": 30, 
                    "metadata": {}, 
                    "data": {
                        "text/html": "<div>\n<style scoped>\n    .dataframe tbody tr th:only-of-type {\n        vertical-align: middle;\n    }\n\n    .dataframe tbody tr th {\n        vertical-align: top;\n    }\n\n    .dataframe thead th {\n        text-align: right;\n    }\n</style>\n<table border=\"1\" class=\"dataframe\">\n  <thead>\n    <tr style=\"text-align: right;\">\n      <th></th>\n      <th>Neighbourhood Id</th>\n      <th>Income</th>\n    </tr>\n  </thead>\n  <tbody>\n    <tr>\n      <th>0</th>\n      <td>ID</td>\n      <td>incprhh58</td>\n    </tr>\n    <tr>\n      <th>1</th>\n      <td>1</td>\n      <td>59703</td>\n    </tr>\n    <tr>\n      <th>2</th>\n      <td>2</td>\n      <td>46986</td>\n    </tr>\n    <tr>\n      <th>3</th>\n      <td>3</td>\n      <td>57522</td>\n    </tr>\n    <tr>\n      <th>4</th>\n      <td>4</td>\n      <td>51194</td>\n    </tr>\n  </tbody>\n</table>\n</div>", 
                        "text/plain": "  Neighbourhood Id     Income\n0               ID  incprhh58\n1                1      59703\n2                2      46986\n3                3      57522\n4                4      51194"
                    }, 
                    "output_type": "execute_result"
                }
            ], 
            "source": "df_income.head()"
        }, 
        {
            "source": "# Combined dataframe from population and income according to neighborhoods", 
            "cell_type": "markdown", 
            "metadata": {}
        }, 
        {
            "execution_count": 31, 
            "cell_type": "code", 
            "metadata": {}, 
            "outputs": [], 
            "source": "df_final=pd.merge(df_pop,df_income,on=['Neighbourhood Id'],how='inner')"
        }, 
        {
            "execution_count": 32, 
            "cell_type": "code", 
            "metadata": {}, 
            "outputs": [
                {
                    "execution_count": 32, 
                    "metadata": {}, 
                    "data": {
                        "text/html": "<div>\n<style scoped>\n    .dataframe tbody tr th:only-of-type {\n        vertical-align: middle;\n    }\n\n    .dataframe tbody tr th {\n        vertical-align: top;\n    }\n\n    .dataframe thead th {\n        text-align: right;\n    }\n</style>\n<table border=\"1\" class=\"dataframe\">\n  <thead>\n    <tr style=\"text-align: right;\">\n      <th></th>\n      <th>Neighbourhood_x</th>\n      <th>Neighbourhood Id</th>\n      <th>Total_young_08</th>\n      <th>Total_young_11</th>\n      <th>Income</th>\n    </tr>\n  </thead>\n  <tbody>\n    <tr>\n      <th>0</th>\n      <td>West Humber-Clairville</td>\n      <td>1</td>\n      <td>5030</td>\n      <td>5610</td>\n      <td>59703</td>\n    </tr>\n    <tr>\n      <th>1</th>\n      <td>Mount Olive-Silverstone-Jamestown</td>\n      <td>2</td>\n      <td>5000</td>\n      <td>4735</td>\n      <td>46986</td>\n    </tr>\n    <tr>\n      <th>2</th>\n      <td>Thistletown-Beaumond Heights</td>\n      <td>3</td>\n      <td>1305</td>\n      <td>1350</td>\n      <td>57522</td>\n    </tr>\n    <tr>\n      <th>3</th>\n      <td>Rexdale-Kipling</td>\n      <td>4</td>\n      <td>1230</td>\n      <td>1295</td>\n      <td>51194</td>\n    </tr>\n    <tr>\n      <th>4</th>\n      <td>Elms-Old Rexdale</td>\n      <td>5</td>\n      <td>1260</td>\n      <td>1225</td>\n      <td>49425</td>\n    </tr>\n  </tbody>\n</table>\n</div>", 
                        "text/plain": "                     Neighbourhood_x Neighbourhood Id  Total_young_08  \\\n0             West Humber-Clairville                1            5030   \n1  Mount Olive-Silverstone-Jamestown                2            5000   \n2       Thistletown-Beaumond Heights                3            1305   \n3                    Rexdale-Kipling                4            1230   \n4                   Elms-Old Rexdale                5            1260   \n\n   Total_young_11 Income  \n0            5610  59703  \n1            4735  46986  \n2            1350  57522  \n3            1295  51194  \n4            1225  49425  "
                    }, 
                    "output_type": "execute_result"
                }
            ], 
            "source": "df_final.head()"
        }, 
        {
            "execution_count": 36, 
            "cell_type": "code", 
            "metadata": {}, 
            "outputs": [], 
            "source": "df_top=df_final.sort_values(by='Income',ascending=False)"
        }, 
        {
            "execution_count": 37, 
            "cell_type": "code", 
            "metadata": {}, 
            "outputs": [], 
            "source": "df_top5=df_top.head()"
        }, 
        {
            "execution_count": 43, 
            "cell_type": "code", 
            "metadata": {}, 
            "outputs": [
                {
                    "execution_count": 43, 
                    "metadata": {}, 
                    "data": {
                        "text/html": "<div>\n<style scoped>\n    .dataframe tbody tr th:only-of-type {\n        vertical-align: middle;\n    }\n\n    .dataframe tbody tr th {\n        vertical-align: top;\n    }\n\n    .dataframe thead th {\n        text-align: right;\n    }\n</style>\n<table border=\"1\" class=\"dataframe\">\n  <thead>\n    <tr style=\"text-align: right;\">\n      <th></th>\n      <th>Neighbourhood_x</th>\n      <th>Neighbourhood Id</th>\n      <th>Total_young_08</th>\n      <th>Total_young_11</th>\n      <th>Income</th>\n      <th>Latitude</th>\n    </tr>\n  </thead>\n  <tbody>\n    <tr>\n      <th>40</th>\n      <td>Bridle Path-Sunnybrook-York Mills</td>\n      <td>41</td>\n      <td>800</td>\n      <td>910</td>\n      <td>161448</td>\n      <td>43.735</td>\n    </tr>\n    <tr>\n      <th>14</th>\n      <td>Kingsway South</td>\n      <td>15</td>\n      <td>775</td>\n      <td>790</td>\n      <td>106386</td>\n      <td>43.735</td>\n    </tr>\n    <tr>\n      <th>102</th>\n      <td>Lawrence Park South</td>\n      <td>103</td>\n      <td>1725</td>\n      <td>1810</td>\n      <td>105043</td>\n      <td>43.735</td>\n    </tr>\n    <tr>\n      <th>104</th>\n      <td>Lawrence Park North</td>\n      <td>105</td>\n      <td>1200</td>\n      <td>1185</td>\n      <td>103660</td>\n      <td>43.735</td>\n    </tr>\n    <tr>\n      <th>9</th>\n      <td>Princess-Rosethorn</td>\n      <td>10</td>\n      <td>1130</td>\n      <td>1230</td>\n      <td>93391</td>\n      <td>43.735</td>\n    </tr>\n  </tbody>\n</table>\n</div>", 
                        "text/plain": "                       Neighbourhood_x Neighbourhood Id  Total_young_08  \\\n40   Bridle Path-Sunnybrook-York Mills               41             800   \n14                      Kingsway South               15             775   \n102                Lawrence Park South              103            1725   \n104                Lawrence Park North              105            1200   \n9                   Princess-Rosethorn               10            1130   \n\n     Total_young_11  Income Latitude  \n40              910  161448   43.735  \n14              790  106386   43.735  \n102            1810  105043   43.735  \n104            1185  103660   43.735  \n9              1230   93391   43.735  "
                    }, 
                    "output_type": "execute_result"
                }
            ], 
            "source": "df_top5"
        }, 
        {
            "execution_count": 46, 
            "cell_type": "code", 
            "metadata": {}, 
            "outputs": [
                {
                    "output_type": "stream", 
                    "name": "stderr", 
                    "text": "/opt/conda/envs/Python36/lib/python3.6/site-packages/ipykernel/__main__.py:1: SettingWithCopyWarning: \nA value is trying to be set on a copy of a slice from a DataFrame.\nTry using .loc[row_indexer,col_indexer] = value instead\n\nSee the caveats in the documentation: http://pandas.pydata.org/pandas-docs/stable/indexing.html#indexing-view-versus-copy\n  if __name__ == '__main__':\n"
                }
            ], 
            "source": "df_top5['Latitude']=\"43.735\",\"43.6527\",\"43.7121\",\"43.7233\",\"43.670\""
        }, 
        {
            "execution_count": 47, 
            "cell_type": "code", 
            "metadata": {}, 
            "outputs": [
                {
                    "execution_count": 47, 
                    "metadata": {}, 
                    "data": {
                        "text/html": "<div>\n<style scoped>\n    .dataframe tbody tr th:only-of-type {\n        vertical-align: middle;\n    }\n\n    .dataframe tbody tr th {\n        vertical-align: top;\n    }\n\n    .dataframe thead th {\n        text-align: right;\n    }\n</style>\n<table border=\"1\" class=\"dataframe\">\n  <thead>\n    <tr style=\"text-align: right;\">\n      <th></th>\n      <th>Neighbourhood_x</th>\n      <th>Neighbourhood Id</th>\n      <th>Total_young_08</th>\n      <th>Total_young_11</th>\n      <th>Income</th>\n      <th>Latitude</th>\n    </tr>\n  </thead>\n  <tbody>\n    <tr>\n      <th>40</th>\n      <td>Bridle Path-Sunnybrook-York Mills</td>\n      <td>41</td>\n      <td>800</td>\n      <td>910</td>\n      <td>161448</td>\n      <td>43.735</td>\n    </tr>\n    <tr>\n      <th>14</th>\n      <td>Kingsway South</td>\n      <td>15</td>\n      <td>775</td>\n      <td>790</td>\n      <td>106386</td>\n      <td>43.6527</td>\n    </tr>\n    <tr>\n      <th>102</th>\n      <td>Lawrence Park South</td>\n      <td>103</td>\n      <td>1725</td>\n      <td>1810</td>\n      <td>105043</td>\n      <td>43.7121</td>\n    </tr>\n    <tr>\n      <th>104</th>\n      <td>Lawrence Park North</td>\n      <td>105</td>\n      <td>1200</td>\n      <td>1185</td>\n      <td>103660</td>\n      <td>43.7233</td>\n    </tr>\n    <tr>\n      <th>9</th>\n      <td>Princess-Rosethorn</td>\n      <td>10</td>\n      <td>1130</td>\n      <td>1230</td>\n      <td>93391</td>\n      <td>43.670</td>\n    </tr>\n  </tbody>\n</table>\n</div>", 
                        "text/plain": "                       Neighbourhood_x Neighbourhood Id  Total_young_08  \\\n40   Bridle Path-Sunnybrook-York Mills               41             800   \n14                      Kingsway South               15             775   \n102                Lawrence Park South              103            1725   \n104                Lawrence Park North              105            1200   \n9                   Princess-Rosethorn               10            1130   \n\n     Total_young_11  Income Latitude  \n40              910  161448   43.735  \n14              790  106386  43.6527  \n102            1810  105043  43.7121  \n104            1185  103660  43.7233  \n9              1230   93391   43.670  "
                    }, 
                    "output_type": "execute_result"
                }
            ], 
            "source": "df_top5.head()"
        }, 
        {
            "execution_count": 76, 
            "cell_type": "code", 
            "metadata": {}, 
            "outputs": [
                {
                    "output_type": "stream", 
                    "name": "stderr", 
                    "text": "/opt/conda/envs/Python36/lib/python3.6/site-packages/ipykernel/__main__.py:1: SettingWithCopyWarning: \nA value is trying to be set on a copy of a slice from a DataFrame.\nTry using .loc[row_indexer,col_indexer] = value instead\n\nSee the caveats in the documentation: http://pandas.pydata.org/pandas-docs/stable/indexing.html#indexing-view-versus-copy\n  if __name__ == '__main__':\n"
                }
            ], 
            "source": "df_top5['Longitude']=\"-79.3733\",\"-79.5072\",\"-79.4117\",\"-79.3888\",\"-79.54111\""
        }, 
        {
            "execution_count": 77, 
            "cell_type": "code", 
            "metadata": {}, 
            "outputs": [
                {
                    "execution_count": 77, 
                    "metadata": {}, 
                    "data": {
                        "text/plain": "Neighbourhood_x     object\nNeighbourhood Id    object\nTotal_young_08       int64\nTotal_young_11       int64\nIncome              object\nLatitude            object\nLongitude           object\ndtype: object"
                    }, 
                    "output_type": "execute_result"
                }
            ], 
            "source": "df_top5.dtypes"
        }, 
        {
            "execution_count": 78, 
            "cell_type": "code", 
            "metadata": {}, 
            "outputs": [
                {
                    "execution_count": 78, 
                    "metadata": {}, 
                    "data": {
                        "text/plain": "Neighbourhood_x      object\nNeighbourhood Id     object\nTotal_young_08        int64\nTotal_young_11        int64\nIncome               object\nLatitude            float64\nLongitude            object\ndtype: object"
                    }, 
                    "output_type": "execute_result"
                }
            ], 
            "source": "df_top5.astype({'Latitude':'float'}).dtypes"
        }, 
        {
            "execution_count": 79, 
            "cell_type": "code", 
            "metadata": {}, 
            "outputs": [], 
            "source": "df_top5_map=df_top5.astype({'Longitude':'float','Latitude':'float'},inplace=False)"
        }, 
        {
            "execution_count": 80, 
            "cell_type": "code", 
            "metadata": {}, 
            "outputs": [
                {
                    "execution_count": 80, 
                    "metadata": {}, 
                    "data": {
                        "text/html": "<div>\n<style scoped>\n    .dataframe tbody tr th:only-of-type {\n        vertical-align: middle;\n    }\n\n    .dataframe tbody tr th {\n        vertical-align: top;\n    }\n\n    .dataframe thead th {\n        text-align: right;\n    }\n</style>\n<table border=\"1\" class=\"dataframe\">\n  <thead>\n    <tr style=\"text-align: right;\">\n      <th></th>\n      <th>Neighbourhood_x</th>\n      <th>Neighbourhood Id</th>\n      <th>Total_young_08</th>\n      <th>Total_young_11</th>\n      <th>Income</th>\n      <th>Latitude</th>\n      <th>Longitude</th>\n    </tr>\n  </thead>\n  <tbody>\n    <tr>\n      <th>40</th>\n      <td>Bridle Path-Sunnybrook-York Mills</td>\n      <td>41</td>\n      <td>800</td>\n      <td>910</td>\n      <td>161448</td>\n      <td>43.7350</td>\n      <td>-79.37330</td>\n    </tr>\n    <tr>\n      <th>14</th>\n      <td>Kingsway South</td>\n      <td>15</td>\n      <td>775</td>\n      <td>790</td>\n      <td>106386</td>\n      <td>43.6527</td>\n      <td>-79.50720</td>\n    </tr>\n    <tr>\n      <th>102</th>\n      <td>Lawrence Park South</td>\n      <td>103</td>\n      <td>1725</td>\n      <td>1810</td>\n      <td>105043</td>\n      <td>43.7121</td>\n      <td>-79.41170</td>\n    </tr>\n    <tr>\n      <th>104</th>\n      <td>Lawrence Park North</td>\n      <td>105</td>\n      <td>1200</td>\n      <td>1185</td>\n      <td>103660</td>\n      <td>43.7233</td>\n      <td>-79.38880</td>\n    </tr>\n    <tr>\n      <th>9</th>\n      <td>Princess-Rosethorn</td>\n      <td>10</td>\n      <td>1130</td>\n      <td>1230</td>\n      <td>93391</td>\n      <td>43.6700</td>\n      <td>-79.54111</td>\n    </tr>\n  </tbody>\n</table>\n</div>", 
                        "text/plain": "                       Neighbourhood_x Neighbourhood Id  Total_young_08  \\\n40   Bridle Path-Sunnybrook-York Mills               41             800   \n14                      Kingsway South               15             775   \n102                Lawrence Park South              103            1725   \n104                Lawrence Park North              105            1200   \n9                   Princess-Rosethorn               10            1130   \n\n     Total_young_11  Income  Latitude  Longitude  \n40              910  161448   43.7350  -79.37330  \n14              790  106386   43.6527  -79.50720  \n102            1810  105043   43.7121  -79.41170  \n104            1185  103660   43.7233  -79.38880  \n9              1230   93391   43.6700  -79.54111  "
                    }, 
                    "output_type": "execute_result"
                }
            ], 
            "source": "df_top5_map"
        }, 
        {
            "execution_count": 83, 
            "cell_type": "code", 
            "metadata": {
                "scrolled": true
            }, 
            "outputs": [
                {
                    "execution_count": 83, 
                    "metadata": {}, 
                    "data": {
                        "text/html": "<div style=\"width:100%;\"><div style=\"position:relative;width:100%;height:0;padding-bottom:60%;\"><iframe src=\"data:text/html;charset=utf-8;base64,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\" style=\"position:absolute;width:100%;height:100%;left:0;top:0;border:none !important;\" allowfullscreen webkitallowfullscreen mozallowfullscreen></iframe></div></div>", 
                        "text/plain": "<folium.folium.Map at 0x7f0732d6c668>"
                    }, 
                    "output_type": "execute_result"
                }
            ], 
            "source": "map_toronto = folium.Map(location=[43.6532,-79.3832], zoom_start=10)\n\n# add markers to map\nfor lat,lng,neighborhood in zip(df_top5_map['Latitude'], df_top5_map['Longitude'], df_top5_map['Neighbourhood_x']):\n    label = '{}'.format(neighborhood)\n    label = folium.Popup(label, parse_html=True)\n    folium.CircleMarker(\n        [lat,lng],\n        radius=11,\n        popup=label,\n        color='blue',\n        fill=True,\n        fill_color='#3186cc',\n        fill_opacity=0.7,\n        parse_html=False).add_to(map_toronto)  \n    \nmap_toronto"
        }, 
        {
            "source": "# From map we can see that Lawerence Park South is closest to all top 5 high income areas and good choice for location for the club. Another option would be Bridle Path-Sunnybrook-York Mills, the most affulent area of Toronto. Location-wise it is also close to 3 high income areas, and itself the higest income area. This also makes it a suitable candidate.", 
            "cell_type": "markdown", 
            "metadata": {}
        }, 
        {
            "source": "# Young adults age group (20-29 years old) are the prime target audience for night clubs. For affulent areas, this age group can also be expected to be high spending customers too. We must select an area with higher population of these age groups.", 
            "cell_type": "markdown", 
            "metadata": {}
        }, 
        {
            "source": "# Using linear regression, we can find the predicted population of these age gropus for our data for these two areas. Since we have only 2008 and 2011 data available, the predicition of linear regession can be done using point-slope formula.", 
            "cell_type": "markdown", 
            "metadata": {}
        }, 
        {
            "execution_count": 84, 
            "cell_type": "code", 
            "metadata": {}, 
            "outputs": [], 
            "source": "# for Lawrenence park South\nx1=2008\ny1=1725\nx2=2011\ny2=1810\nm=(y2-y1)/(x2-x1)"
        }, 
        {
            "execution_count": 87, 
            "cell_type": "code", 
            "metadata": {}, 
            "outputs": [], 
            "source": "x3=2019\ny3=y2+(m*(x3-x2))"
        }, 
        {
            "execution_count": 88, 
            "cell_type": "code", 
            "metadata": {}, 
            "outputs": [
                {
                    "execution_count": 88, 
                    "metadata": {}, 
                    "data": {
                        "text/plain": "2036.6666666666667"
                    }, 
                    "output_type": "execute_result"
                }
            ], 
            "source": "y3"
        }, 
        {
            "execution_count": 89, 
            "cell_type": "code", 
            "metadata": {}, 
            "outputs": [
                {
                    "execution_count": 89, 
                    "metadata": {}, 
                    "data": {
                        "text/plain": "1203.3333333333333"
                    }, 
                    "output_type": "execute_result"
                }
            ], 
            "source": "# for Bridle Path-Sunnybrook-York Mills\nx1=2008\ny1=800\nx2=2011\ny2=910\nm=(y2-y1)/(x2-x1)\nx3=2019\ny3=y2+(m*(x3-x2))\ny3"
        }, 
        {
            "source": "# Lawerence Park South thus has more population of younger generation and hence a better candidate", 
            "cell_type": "markdown", 
            "metadata": {}
        }, 
        {
            "source": "# Let's check the neighborhood for Bars and other trending venues. This may give an insight into interests of the population residing in this neighborhood.", 
            "cell_type": "markdown", 
            "metadata": {}
        }, 
        {
            "execution_count": 90, 
            "cell_type": "code", 
            "metadata": {}, 
            "outputs": [], 
            "source": "import requests # library to handle requests\n# libraries for displaying images\nfrom IPython.display import Image \nfrom IPython.core.display import HTML \n    \n# tranforming json file into a pandas dataframe library\nfrom pandas.io.json import json_normalize"
        }, 
        {
            "execution_count": 91, 
            "cell_type": "code", 
            "metadata": {}, 
            "outputs": [
                {
                    "output_type": "stream", 
                    "name": "stdout", 
                    "text": "Your credentails:\nCLIENT_ID: WKSBPMNHEAZQHWN2SBZPUFDGLEJRMDO54DQODWUGTA5WFTPZ\nCLIENT_SECRET:KI2ODBSNTEGA1EQF3LY3SNAUBJT4TCCINXK3AA0QZA4LMPL5\n"
                }
            ], 
            "source": "CLIENT_ID = 'WKSBPMNHEAZQHWN2SBZPUFDGLEJRMDO54DQODWUGTA5WFTPZ' # your Foursquare ID\nCLIENT_SECRET = 'KI2ODBSNTEGA1EQF3LY3SNAUBJT4TCCINXK3AA0QZA4LMPL5' # your Foursquare Secret\nVERSION = '20180604'\nLIMIT = 30\nprint('Your credentails:')\nprint('CLIENT_ID: ' + CLIENT_ID)\nprint('CLIENT_SECRET:' + CLIENT_SECRET)"
        }, 
        {
            "execution_count": 92, 
            "cell_type": "code", 
            "metadata": {}, 
            "outputs": [
                {
                    "output_type": "stream", 
                    "name": "stdout", 
                    "text": "43.729199 -79.4032525\n"
                }
            ], 
            "source": "address = 'Lawrence Park South Toronto,Canada'\n\ngeolocator = Nominatim(user_agent=\"foursquare_agent\")\nlocation = geolocator.geocode(address)\nlatitude = location.latitude\nlongitude = location.longitude\nprint(latitude, longitude)"
        }, 
        {
            "execution_count": 118, 
            "cell_type": "code", 
            "metadata": {}, 
            "outputs": [
                {
                    "output_type": "stream", 
                    "name": "stdout", 
                    "text": "Bars .... OK!\n"
                }
            ], 
            "source": "search_query = 'Bars'\nradius = 500\nprint(search_query + ' .... OK!')"
        }, 
        {
            "execution_count": 119, 
            "cell_type": "code", 
            "metadata": {}, 
            "outputs": [
                {
                    "execution_count": 119, 
                    "metadata": {}, 
                    "data": {
                        "text/plain": "'https://api.foursquare.com/v2/venues/search?client_id=WKSBPMNHEAZQHWN2SBZPUFDGLEJRMDO54DQODWUGTA5WFTPZ&client_secret=KI2ODBSNTEGA1EQF3LY3SNAUBJT4TCCINXK3AA0QZA4LMPL5&ll=43.729199,-79.4032525&v=20180604&query=Bars&radius=500&limit=30'"
                    }, 
                    "output_type": "execute_result"
                }
            ], 
            "source": "url = 'https://api.foursquare.com/v2/venues/search?client_id={}&client_secret={}&ll={},{}&v={}&query={}&radius={}&limit={}'.format(CLIENT_ID, CLIENT_SECRET, latitude, longitude, VERSION, search_query, radius, LIMIT)\nurl"
        }, 
        {
            "execution_count": null, 
            "cell_type": "code", 
            "metadata": {
                "scrolled": false
            }, 
            "outputs": [], 
            "source": "results = requests.get(url).json()\nresults"
        }, 
        {
            "execution_count": null, 
            "cell_type": "code", 
            "metadata": {
                "scrolled": true
            }, 
            "outputs": [], 
            "source": "# assign relevant part of JSON to venues\nvenues = results['response']['venues']\n\n# tranform venues into a dataframe\ndataframe = json_normalize(venues)\ndataframe.head()"
        }, 
        {
            "execution_count": 98, 
            "cell_type": "code", 
            "metadata": {}, 
            "outputs": [
                {
                    "execution_count": 98, 
                    "metadata": {}, 
                    "data": {
                        "text/html": "<div>\n<style scoped>\n    .dataframe tbody tr th:only-of-type {\n        vertical-align: middle;\n    }\n\n    .dataframe tbody tr th {\n        vertical-align: top;\n    }\n\n    .dataframe thead th {\n        text-align: right;\n    }\n</style>\n<table border=\"1\" class=\"dataframe\">\n  <thead>\n    <tr style=\"text-align: right;\">\n      <th></th>\n      <th>name</th>\n      <th>categories</th>\n      <th>address</th>\n      <th>cc</th>\n      <th>city</th>\n      <th>country</th>\n      <th>crossStreet</th>\n      <th>distance</th>\n      <th>formattedAddress</th>\n      <th>labeledLatLngs</th>\n      <th>lat</th>\n      <th>lng</th>\n      <th>postalCode</th>\n      <th>state</th>\n      <th>id</th>\n    </tr>\n  </thead>\n  <tbody>\n    <tr>\n      <th>0</th>\n      <td>Wildfire Steakhouse &amp; Wine Bar</td>\n      <td>Steakhouse</td>\n      <td>3438 Yonge St.</td>\n      <td>CA</td>\n      <td>Toronto</td>\n      <td>Canada</td>\n      <td>btwn Deloraine &amp; Melrose</td>\n      <td>507</td>\n      <td>[3438 Yonge St. (btwn Deloraine &amp; Melrose), To...</td>\n      <td>[{'label': 'display', 'lat': 43.73365381197107...</td>\n      <td>43.733654</td>\n      <td>-79.404570</td>\n      <td>M4N 2N2</td>\n      <td>ON</td>\n      <td>4aeb445df964a52059c021e3</td>\n    </tr>\n    <tr>\n      <th>1</th>\n      <td>Indian Bread Bar</td>\n      <td>North Indian Restaurant</td>\n      <td>3305 Yonge St</td>\n      <td>CA</td>\n      <td>Toronto</td>\n      <td>Canada</td>\n      <td>NaN</td>\n      <td>105</td>\n      <td>[3305 Yonge St, Toronto ON M4N 2L8, Canada]</td>\n      <td>[{'label': 'display', 'lat': 43.73014794502956...</td>\n      <td>43.730148</td>\n      <td>-79.403153</td>\n      <td>M4N 2L8</td>\n      <td>ON</td>\n      <td>54dd1704498e6bef053d2cdf</td>\n    </tr>\n    <tr>\n      <th>2</th>\n      <td>Aroma Espresso Bar</td>\n      <td>Caf\u00e9</td>\n      <td>3343 Yonge St</td>\n      <td>CA</td>\n      <td>Toronto</td>\n      <td>Canada</td>\n      <td>Yonge and Snowden</td>\n      <td>224</td>\n      <td>[3343 Yonge St (Yonge and Snowden), Toronto ON...</td>\n      <td>[{'label': 'display', 'lat': 43.73119302623775...</td>\n      <td>43.731193</td>\n      <td>-79.403678</td>\n      <td>NaN</td>\n      <td>ON</td>\n      <td>529f7dd2498e96adf4bc4e66</td>\n    </tr>\n    <tr>\n      <th>3</th>\n      <td>The Monkey Bar &amp; Grill</td>\n      <td>American Restaurant</td>\n      <td>3353 Yonge Street</td>\n      <td>CA</td>\n      <td>Toronto</td>\n      <td>Canada</td>\n      <td>Fairlawn</td>\n      <td>248</td>\n      <td>[3353 Yonge Street (Fairlawn), Toronto ON M4N ...</td>\n      <td>[{'label': 'display', 'lat': 43.7313939, 'lng'...</td>\n      <td>43.731394</td>\n      <td>-79.403823</td>\n      <td>M4N 2M6</td>\n      <td>ON</td>\n      <td>4ad4c05ff964a5201ff720e3</td>\n    </tr>\n    <tr>\n      <th>4</th>\n      <td>Burger Grill + Wine Bar</td>\n      <td>Burger Joint</td>\n      <td>3391 Yonge St</td>\n      <td>CA</td>\n      <td>Toronto</td>\n      <td>Canada</td>\n      <td>NaN</td>\n      <td>335</td>\n      <td>[3391 Yonge St, Toronto ON M4N 2L8, Canada]</td>\n      <td>[{'label': 'display', 'lat': 43.7320944, 'lng'...</td>\n      <td>43.732094</td>\n      <td>-79.402084</td>\n      <td>M4N 2L8</td>\n      <td>ON</td>\n      <td>4cae574dcbab236a87ab8f73</td>\n    </tr>\n    <tr>\n      <th>5</th>\n      <td>The Sushi Bar Toronto</td>\n      <td>Japanese Restaurant</td>\n      <td>3365 Yonge St</td>\n      <td>CA</td>\n      <td>Toronto</td>\n      <td>Canada</td>\n      <td>NaN</td>\n      <td>273</td>\n      <td>[3365 Yonge St, Toronto ON, Canada]</td>\n      <td>[{'label': 'display', 'lat': 43.73161255989256...</td>\n      <td>43.731613</td>\n      <td>-79.403873</td>\n      <td>NaN</td>\n      <td>ON</td>\n      <td>553ac652498e4704473c5ace</td>\n    </tr>\n    <tr>\n      <th>6</th>\n      <td>the sushi bar</td>\n      <td>Sushi Restaurant</td>\n      <td>3369 yonge street</td>\n      <td>CA</td>\n      <td>Toronto</td>\n      <td>Canada</td>\n      <td>Deloraine</td>\n      <td>294</td>\n      <td>[3369 yonge street (Deloraine), Toronto ON, Ca...</td>\n      <td>[{'label': 'display', 'lat': 43.73181562279041...</td>\n      <td>43.731816</td>\n      <td>-79.403790</td>\n      <td>NaN</td>\n      <td>ON</td>\n      <td>4b3bd792f964a5205d7c25e3</td>\n    </tr>\n    <tr>\n      <th>7</th>\n      <td>Starks Barber Shop Toronto</td>\n      <td>Salon / Barbershop</td>\n      <td>NaN</td>\n      <td>CA</td>\n      <td>Toronto</td>\n      <td>Canada</td>\n      <td>NaN</td>\n      <td>76</td>\n      <td>[Toronto ON M4N 2L8, Canada]</td>\n      <td>[{'label': 'display', 'lat': 43.72987, 'lng': ...</td>\n      <td>43.729870</td>\n      <td>-79.403435</td>\n      <td>M4N 2L8</td>\n      <td>ON</td>\n      <td>5894d93f6f20d11455832121</td>\n    </tr>\n  </tbody>\n</table>\n</div>", 
                        "text/plain": "                             name               categories            address  \\\n0  Wildfire Steakhouse & Wine Bar               Steakhouse     3438 Yonge St.   \n1                Indian Bread Bar  North Indian Restaurant      3305 Yonge St   \n2              Aroma Espresso Bar                     Caf\u00e9      3343 Yonge St   \n3          The Monkey Bar & Grill      American Restaurant  3353 Yonge Street   \n4         Burger Grill + Wine Bar             Burger Joint      3391 Yonge St   \n5           The Sushi Bar Toronto      Japanese Restaurant      3365 Yonge St   \n6                   the sushi bar         Sushi Restaurant  3369 yonge street   \n7      Starks Barber Shop Toronto       Salon / Barbershop                NaN   \n\n   cc     city country               crossStreet  distance  \\\n0  CA  Toronto  Canada  btwn Deloraine & Melrose       507   \n1  CA  Toronto  Canada                       NaN       105   \n2  CA  Toronto  Canada         Yonge and Snowden       224   \n3  CA  Toronto  Canada                  Fairlawn       248   \n4  CA  Toronto  Canada                       NaN       335   \n5  CA  Toronto  Canada                       NaN       273   \n6  CA  Toronto  Canada                 Deloraine       294   \n7  CA  Toronto  Canada                       NaN        76   \n\n                                    formattedAddress  \\\n0  [3438 Yonge St. (btwn Deloraine & Melrose), To...   \n1        [3305 Yonge St, Toronto ON M4N 2L8, Canada]   \n2  [3343 Yonge St (Yonge and Snowden), Toronto ON...   \n3  [3353 Yonge Street (Fairlawn), Toronto ON M4N ...   \n4        [3391 Yonge St, Toronto ON M4N 2L8, Canada]   \n5                [3365 Yonge St, Toronto ON, Canada]   \n6  [3369 yonge street (Deloraine), Toronto ON, Ca...   \n7                       [Toronto ON M4N 2L8, Canada]   \n\n                                      labeledLatLngs        lat        lng  \\\n0  [{'label': 'display', 'lat': 43.73365381197107...  43.733654 -79.404570   \n1  [{'label': 'display', 'lat': 43.73014794502956...  43.730148 -79.403153   \n2  [{'label': 'display', 'lat': 43.73119302623775...  43.731193 -79.403678   \n3  [{'label': 'display', 'lat': 43.7313939, 'lng'...  43.731394 -79.403823   \n4  [{'label': 'display', 'lat': 43.7320944, 'lng'...  43.732094 -79.402084   \n5  [{'label': 'display', 'lat': 43.73161255989256...  43.731613 -79.403873   \n6  [{'label': 'display', 'lat': 43.73181562279041...  43.731816 -79.403790   \n7  [{'label': 'display', 'lat': 43.72987, 'lng': ...  43.729870 -79.403435   \n\n  postalCode state                        id  \n0    M4N 2N2    ON  4aeb445df964a52059c021e3  \n1    M4N 2L8    ON  54dd1704498e6bef053d2cdf  \n2        NaN    ON  529f7dd2498e96adf4bc4e66  \n3    M4N 2M6    ON  4ad4c05ff964a5201ff720e3  \n4    M4N 2L8    ON  4cae574dcbab236a87ab8f73  \n5        NaN    ON  553ac652498e4704473c5ace  \n6        NaN    ON  4b3bd792f964a5205d7c25e3  \n7    M4N 2L8    ON  5894d93f6f20d11455832121  "
                    }, 
                    "output_type": "execute_result"
                }
            ], 
            "source": "# keep only columns that include venue name, and anything that is associated with location\nfiltered_columns = ['name', 'categories'] + [col for col in dataframe.columns if col.startswith('location.')] + ['id']\ndataframe_filtered = dataframe.loc[:, filtered_columns]\n\n# function that extracts the category of the venue\ndef get_category_type(row):\n    try:\n        categories_list = row['categories']\n    except:\n        categories_list = row['venue.categories']\n        \n    if len(categories_list) == 0:\n        return None\n    else:\n        return categories_list[0]['name']\n\n# filter the category for each row\ndataframe_filtered['categories'] = dataframe_filtered.apply(get_category_type, axis=1)\n\n# clean column names by keeping only last term\ndataframe_filtered.columns = [column.split('.')[-1] for column in dataframe_filtered.columns]\n\ndataframe_filtered"
        }, 
        {
            "execution_count": 99, 
            "cell_type": "code", 
            "metadata": {}, 
            "outputs": [
                {
                    "execution_count": 99, 
                    "metadata": {}, 
                    "data": {
                        "text/plain": "0    Wildfire Steakhouse & Wine Bar\n1                  Indian Bread Bar\n2                Aroma Espresso Bar\n3            The Monkey Bar & Grill\n4           Burger Grill + Wine Bar\n5             The Sushi Bar Toronto\n6                     the sushi bar\n7        Starks Barber Shop Toronto\nName: name, dtype: object"
                    }, 
                    "output_type": "execute_result"
                }
            ], 
            "source": "dataframe_filtered.name"
        }, 
        {
            "execution_count": 111, 
            "cell_type": "code", 
            "metadata": {}, 
            "outputs": [
                {
                    "execution_count": 111, 
                    "metadata": {}, 
                    "data": {
                        "text/html": "<div style=\"width:100%;\"><div style=\"position:relative;width:100%;height:0;padding-bottom:60%;\"><iframe src=\"data:text/html;charset=utf-8;base64,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\" style=\"position:absolute;width:100%;height:100%;left:0;top:0;border:none !important;\" allowfullscreen webkitallowfullscreen mozallowfullscreen></iframe></div></div>", 
                        "text/plain": "<folium.folium.Map at 0x7f07168a4e48>"
                    }, 
                    "output_type": "execute_result"
                }
            ], 
            "source": "venues_map = folium.Map(location=[latitude, longitude], zoom_start=13) # generate map centred around the Conrad Hotel\n\n# add a red circle marker to represent the Conrad Hotel\nfolium.features.CircleMarker(\n    [latitude, longitude],\n    radius=10,\n    color='red',\n    popup='Conrad Hotel',\n    fill = True,\n    fill_color = 'red',\n    fill_opacity = 0.6\n).add_to(venues_map)\n\n# add the Italian restaurants as blue circle markers\nfor lat, lng, label in zip(dataframe_filtered.lat, dataframe_filtered.lng, dataframe_filtered.categories):\n    folium.features.CircleMarker(\n        [lat, lng],\n        radius=5,\n        color='blue',\n        popup=label,\n        fill = True,\n        fill_color='blue',\n        fill_opacity=0.6\n    ).add_to(venues_map)\n\n# display map\nvenues_map"
        }, 
        {
            "execution_count": 112, 
            "cell_type": "code", 
            "metadata": {}, 
            "outputs": [
                {
                    "execution_count": 112, 
                    "metadata": {}, 
                    "data": {
                        "text/plain": "'https://api.foursquare.com/v2/venues/4ad4c05ff964a5201ff720e3?client_id=WKSBPMNHEAZQHWN2SBZPUFDGLEJRMDO54DQODWUGTA5WFTPZ&client_secret=KI2ODBSNTEGA1EQF3LY3SNAUBJT4TCCINXK3AA0QZA4LMPL5&v=20180604'"
                    }, 
                    "output_type": "execute_result"
                }
            ], 
            "source": "venue_id = '4ad4c05ff964a5201ff720e3' # ID of Harry's Italian Pizza Bar\nurl = 'https://api.foursquare.com/v2/venues/{}?client_id={}&client_secret={}&v={}'.format(venue_id, CLIENT_ID, CLIENT_SECRET, VERSION)\nurl"
        }, 
        {
            "execution_count": 113, 
            "cell_type": "code", 
            "metadata": {}, 
            "outputs": [
                {
                    "output_type": "stream", 
                    "name": "stdout", 
                    "text": "dict_keys(['id', 'name', 'contact', 'location', 'canonicalUrl', 'categories', 'verified', 'stats', 'price', 'hasMenu', 'likes', 'dislike', 'ok', 'menu', 'allowMenuUrlEdit', 'beenHere', 'specials', 'photos', 'venuePage', 'reasons', 'description', 'storeId', 'page', 'hereNow', 'createdAt', 'tips', 'shortUrl', 'timeZone', 'listed', 'hours', 'pageUpdates', 'inbox', 'attributes', 'bestPhoto', 'colors'])\n"
                }, 
                {
                    "execution_count": 113, 
                    "metadata": {}, 
                    "data": {
                        "text/plain": "{'id': '4ad4c05ff964a5201ff720e3',\n 'name': 'The Monkey Bar & Grill',\n 'contact': {'phone': '4164862288',\n  'formattedPhone': '(416) 486-2288',\n  'twitter': 'monkeybarto'},\n 'location': {'address': '3353 Yonge Street',\n  'crossStreet': 'Fairlawn',\n  'lat': 43.7313939,\n  'lng': -79.4038231,\n  'labeledLatLngs': [{'label': 'display',\n    'lat': 43.7313939,\n    'lng': -79.4038231}],\n  'postalCode': 'M4N 2M6',\n  'cc': 'CA',\n  'city': 'Toronto',\n  'state': 'ON',\n  'country': 'Canada',\n  'formattedAddress': ['3353 Yonge Street (Fairlawn)',\n   'Toronto ON M4N 2M6',\n   'Canada']},\n 'canonicalUrl': 'https://foursquare.com/v/the-monkey-bar--grill/4ad4c05ff964a5201ff720e3',\n 'categories': [{'id': '4bf58dd8d48988d14e941735',\n   'name': 'American Restaurant',\n   'pluralName': 'American Restaurants',\n   'shortName': 'American',\n   'icon': {'prefix': 'https://ss3.4sqi.net/img/categories_v2/food/default_',\n    'suffix': '.png'},\n   'primary': True},\n  {'id': '4bf58dd8d48988d10c941735',\n   'name': 'French Restaurant',\n   'pluralName': 'French Restaurants',\n   'shortName': 'French',\n   'icon': {'prefix': 'https://ss3.4sqi.net/img/categories_v2/food/french_',\n    'suffix': '.png'}}],\n 'verified': True,\n 'stats': {'tipCount': 3},\n 'price': {'tier': 3, 'message': 'Expensive', 'currency': '$'},\n 'hasMenu': True,\n 'likes': {'count': 2,\n  'groups': [{'type': 'others',\n    'count': 2,\n    'items': [{'id': '69765847',\n      'firstName': 'Cemre',\n      'lastName': 'Pehlivano\u011flu',\n      'gender': 'male',\n      'photo': {'prefix': 'https://fastly.4sqi.net/img/user/',\n       'suffix': '/VYVGTA2AXGIEMPNS.jpg'}},\n     {'id': '68960193',\n      'firstName': 'Melissa',\n      'lastName': 'Fox-Revett',\n      'gender': 'female',\n      'photo': {'prefix': 'https://fastly.4sqi.net/img/user/',\n       'suffix': '/5OYMILUKP4TWFDKB.jpg'}}]}],\n  'summary': '2 Likes'},\n 'dislike': False,\n 'ok': False,\n 'menu': {'type': 'Menu',\n  'label': 'Menu',\n  'anchor': 'View Menu',\n  'url': 'https://foursquare.com/v/the-monkey-bar--grill/4ad4c05ff964a5201ff720e3/menu',\n  'mobileUrl': 'https://foursquare.com/v/4ad4c05ff964a5201ff720e3/device_menu'},\n 'allowMenuUrlEdit': True,\n 'beenHere': {'count': 0,\n  'unconfirmedCount': 0,\n  'marked': False,\n  'lastCheckinExpiredAt': 0},\n 'specials': {'count': 0, 'items': []},\n 'photos': {'count': 3,\n  'groups': [{'type': 'checkin',\n    'name': \"Friends' check-in photos\",\n    'count': 0,\n    'items': []},\n   {'type': 'venue',\n    'name': 'Venue photos',\n    'count': 3,\n    'items': [{'id': '584b50d013c2232ee63a29dd',\n      'createdAt': 1481330896,\n      'source': {'name': 'Swarm for iOS', 'url': 'https://www.swarmapp.com'},\n      'prefix': 'https://fastly.4sqi.net/img/general/',\n      'suffix': '/81473105_p7sU7nrNrnDQ33VcfnZhhUHD6Tf12yBWThWjqcX24X8.jpg',\n      'width': 1920,\n      'height': 1440,\n      'user': {'id': '81473105',\n       'firstName': 'Hitoshi',\n       'lastName': 'Ishida',\n       'gender': 'male',\n       'photo': {'prefix': 'https://fastly.4sqi.net/img/user/',\n        'suffix': '/81473105-DAW5WBI5F0AOAWYA.jpg'}},\n      'visibility': 'public'}]}],\n  'summary': '0 photos'},\n 'venuePage': {'id': '76945232'},\n 'reasons': {'count': 0, 'items': []},\n 'description': 'Your favourite neighbourhood restaurant...',\n 'storeId': '',\n 'page': {'user': {'id': '76945232',\n   'firstName': 'The Monkey Bar & Grill',\n   'gender': 'none',\n   'photo': {'prefix': 'https://fastly.4sqi.net/img/user/',\n    'suffix': '/76945232-YL2SBW2M4LF2V1VA.png'},\n   'type': 'venuePage',\n   'venue': {'id': '4ad4c05ff964a5201ff720e3'},\n   'tips': {'count': 0},\n   'lists': {'groups': [{'type': 'created', 'count': 2, 'items': []}]},\n   'homeCity': 'Toronto, Canada',\n   'bio': '',\n   'contact': {}}},\n 'hereNow': {'count': 0, 'summary': 'Nobody here', 'groups': []},\n 'createdAt': 1255456863,\n 'tips': {'count': 3,\n  'groups': [{'type': 'others',\n    'name': 'All tips',\n    'count': 3,\n    'items': [{'id': '52ae5ee711d2336aa9f61379',\n      'createdAt': 1387159271,\n      'text': 'By far the best Steak Frites in the city. If you ask nicely you can get the steak with garlic mashed potatoes instead, also a great compliment, and a way to change it up!',\n      'type': 'user',\n      'canonicalUrl': 'https://foursquare.com/item/52ae5ee711d2336aa9f61379',\n      'lang': 'en',\n      'likes': {'count': 1,\n       'groups': [{'type': 'others',\n         'count': 1,\n         'items': [{'id': '68960193',\n           'firstName': 'Melissa',\n           'lastName': 'Fox-Revett',\n           'gender': 'female',\n           'photo': {'prefix': 'https://fastly.4sqi.net/img/user/',\n            'suffix': '/5OYMILUKP4TWFDKB.jpg'}}]}],\n       'summary': '1 like'},\n      'logView': True,\n      'agreeCount': 1,\n      'disagreeCount': 0,\n      'todo': {'count': 0},\n      'user': {'id': '46557054',\n       'firstName': 'Carolyn',\n       'lastName': 'G.',\n       'gender': 'female',\n       'photo': {'prefix': 'https://fastly.4sqi.net/img/user/',\n        'suffix': '/3C1QBRV3KI2VBIIT.jpg'}}}]}]},\n 'shortUrl': 'http://4sq.com/aQhYXj',\n 'timeZone': 'America/Toronto',\n 'listed': {'count': 0,\n  'groups': [{'type': 'others',\n    'name': 'Lists from other people',\n    'count': 0,\n    'items': []}]},\n 'hours': {'status': 'Closed until 5:00 PM tomorrow',\n  'richStatus': {'entities': [], 'text': 'Closed until 5:00 PM tomorrow'},\n  'isOpen': False,\n  'isLocalHoliday': False,\n  'dayData': [],\n  'timeframes': [{'days': 'Mon\u2013Sat',\n    'open': [{'renderedTime': '5:00 PM\u201310:00 PM'}],\n    'segments': []}]},\n 'pageUpdates': {'count': 0, 'items': []},\n 'inbox': {'count': 0, 'items': []},\n 'attributes': {'groups': [{'type': 'price',\n    'name': 'Price',\n    'summary': '$$$',\n    'count': 1,\n    'items': [{'displayName': 'Price',\n      'displayValue': '$$$',\n      'priceTier': 3}]},\n   {'type': 'reservations',\n    'name': 'Reservations',\n    'summary': 'Reservations',\n    'count': 3,\n    'items': [{'displayName': 'Reservations', 'displayValue': 'Yes'}]},\n   {'type': 'payments',\n    'name': 'Credit Cards',\n    'summary': 'Credit Cards',\n    'count': 5,\n    'items': [{'displayName': 'Credit Cards',\n      'displayValue': 'Yes (incl. American Express & MasterCard)'}]},\n   {'type': 'outdoorSeating',\n    'name': 'Outdoor Seating',\n    'count': 1,\n    'items': [{'displayName': 'Outdoor Seating', 'displayValue': 'No'}]},\n   {'type': 'serves',\n    'name': 'Menus',\n    'summary': 'Dinner',\n    'count': 8,\n    'items': [{'displayName': 'Dinner', 'displayValue': 'Dinner'}]},\n   {'type': 'diningOptions',\n    'name': 'Dining Options',\n    'summary': 'Delivery',\n    'count': 5,\n    'items': [{'displayName': 'Delivery', 'displayValue': 'Delivery'}]}]},\n 'bestPhoto': {'id': '584b50d013c2232ee63a29dd',\n  'createdAt': 1481330896,\n  'source': {'name': 'Swarm for iOS', 'url': 'https://www.swarmapp.com'},\n  'prefix': 'https://fastly.4sqi.net/img/general/',\n  'suffix': '/81473105_p7sU7nrNrnDQ33VcfnZhhUHD6Tf12yBWThWjqcX24X8.jpg',\n  'width': 1920,\n  'height': 1440,\n  'visibility': 'public'},\n 'colors': {'highlightColor': {'photoId': '584b50d013c2232ee63a29dd',\n   'value': -12054520},\n  'highlightTextColor': {'photoId': '584b50d013c2232ee63a29dd', 'value': -1},\n  'algoVersion': 3}}"
                    }, 
                    "output_type": "execute_result"
                }
            ], 
            "source": "result = requests.get(url).json()\nprint(result['response']['venue'].keys())\nresult['response']['venue']"
        }, 
        {
            "execution_count": 114, 
            "cell_type": "code", 
            "metadata": {}, 
            "outputs": [
                {
                    "output_type": "stream", 
                    "name": "stdout", 
                    "text": "This venue has not been rated yet.\n"
                }
            ], 
            "source": "try:\n    print(result['response']['venue']['rating'])\nexcept:\n    print('This venue has not been rated yet.')"
        }, 
        {
            "source": "# A quick check on Zomato however shows good ratings for these venues. Hence location choice can be justified. A quick glance for this area on Wiki shows affulent population being members of The Granite Club, which has most sports facilities such as Skating, Lawn tennis,Ice hockey, Table tennis and others. Hence people in this area enjoy sports and socializing too. This makes it a prime location. A sports themed club in this area would see high footfalls.", 
            "cell_type": "markdown", 
            "metadata": {}
        }, 
        {
            "source": "# Thus we can finalize Lawerence Park South as a prime neighborhood for our wealthy entrepreneur to start business with.", 
            "cell_type": "markdown", 
            "metadata": {}
        }, 
        {
            "source": "# Further expansion plans", 
            "cell_type": "markdown", 
            "metadata": {}
        }, 
        {
            "execution_count": 121, 
            "cell_type": "code", 
            "metadata": {}, 
            "outputs": [], 
            "source": "from bs4 import BeautifulSoup\nimport requests"
        }, 
        {
            "execution_count": 122, 
            "cell_type": "code", 
            "metadata": {}, 
            "outputs": [], 
            "source": "link = requests.get(\"https://en.wikipedia.org/wiki/List_of_Median_household_income_of_cities_in_Canada\")\nsoup = BeautifulSoup(link.content, 'html.parser')"
        }, 
        {
            "execution_count": 123, 
            "cell_type": "code", 
            "metadata": {}, 
            "outputs": [], 
            "source": "table = soup.find('tbody')\nrows = table.select('tr')\nrow = [r.get_text() for r in rows]"
        }, 
        {
            "execution_count": 124, 
            "cell_type": "code", 
            "metadata": {}, 
            "outputs": [
                {
                    "execution_count": 124, 
                    "metadata": {}, 
                    "data": {
                        "text/html": "<div>\n<style scoped>\n    .dataframe tbody tr th:only-of-type {\n        vertical-align: middle;\n    }\n\n    .dataframe tbody tr th {\n        vertical-align: top;\n    }\n\n    .dataframe thead th {\n        text-align: right;\n    }\n</style>\n<table border=\"1\" class=\"dataframe\">\n  <thead>\n    <tr style=\"text-align: right;\">\n      <th></th>\n      <th></th>\n      <th>Census Metropolitan Area</th>\n      <th></th>\n      <th>Median Income,Households2015 (CAD)[5]</th>\n      <th></th>\n      <th>Median Income,Census Families2017 (CAD)[6]</th>\n      <th></th>\n      <th>Median Income,Economic Families andPersons not in an Economic Family2017 (CAD)[7]</th>\n      <th></th>\n      <th>Median Income,Economic Families2017 (CAD)[8]</th>\n      <th></th>\n    </tr>\n  </thead>\n  <tbody>\n    <tr>\n      <th>1</th>\n      <td></td>\n      <td>Calgary</td>\n      <td></td>\n      <td>99583</td>\n      <td></td>\n      <td>102060</td>\n      <td></td>\n      <td>83700</td>\n      <td></td>\n      <td>115500</td>\n      <td></td>\n    </tr>\n    <tr>\n      <th>2</th>\n      <td></td>\n      <td>Edmonton</td>\n      <td></td>\n      <td>94447</td>\n      <td></td>\n      <td>101190</td>\n      <td></td>\n      <td>81300</td>\n      <td></td>\n      <td>122200</td>\n      <td></td>\n    </tr>\n    <tr>\n      <th>3</th>\n      <td></td>\n      <td>Oshawa</td>\n      <td></td>\n      <td>85697</td>\n      <td></td>\n      <td>95510</td>\n      <td></td>\n      <td>None</td>\n      <td>None</td>\n      <td>None</td>\n      <td>None</td>\n    </tr>\n    <tr>\n      <th>4</th>\n      <td></td>\n      <td>Regina</td>\n      <td></td>\n      <td>84447</td>\n      <td></td>\n      <td>99240</td>\n      <td></td>\n      <td>None</td>\n      <td>None</td>\n      <td>None</td>\n      <td>None</td>\n    </tr>\n    <tr>\n      <th>5</th>\n      <td></td>\n      <td>Saskatoon</td>\n      <td></td>\n      <td>82999</td>\n      <td></td>\n      <td>94810</td>\n      <td></td>\n      <td>None</td>\n      <td>None</td>\n      <td>None</td>\n      <td>None</td>\n    </tr>\n  </tbody>\n</table>\n</div>", 
                        "text/plain": "    Census Metropolitan Area   Median Income,Households2015 (CAD)[5]    \\\n1                    Calgary                                   99583     \n2                   Edmonton                                   94447     \n3                     Oshawa                                   85697     \n4                     Regina                                   84447     \n5                  Saskatoon                                   82999     \n\n  Median Income,Census Families2017 (CAD)[6]    \\\n1                                     102060     \n2                                     101190     \n3                                      95510     \n4                                      99240     \n5                                      94810     \n\n  Median Income,Economic Families andPersons not in an Economic Family2017 (CAD)[7]  \\\n1                                              83700                                  \n2                                              81300                                  \n3                                               None                                  \n4                                               None                                  \n5                                               None                                  \n\n        Median Income,Economic Families2017 (CAD)[8]        \n1                                             115500        \n2                                             122200        \n3  None                                         None  None  \n4  None                                         None  None  \n5  None                                         None  None  "
                    }, 
                    "output_type": "execute_result"
                }
            ], 
            "source": "df = pd.DataFrame(row)\ndf1 = df[0].str.split('\\n', expand=True)\ndf2 = df1.rename(columns=df1.iloc[0])\ndf3 = df2.drop(df2.index[0])\ndf3.head()"
        }, 
        {
            "execution_count": 125, 
            "cell_type": "code", 
            "metadata": {}, 
            "outputs": [], 
            "source": "df_top_cities=df3.sort_values(by='Median Income,Census Families2017 (CAD)[6]',ascending=False)"
        }, 
        {
            "execution_count": 126, 
            "cell_type": "code", 
            "metadata": {}, 
            "outputs": [
                {
                    "execution_count": 126, 
                    "metadata": {}, 
                    "data": {
                        "text/html": "<div>\n<style scoped>\n    .dataframe tbody tr th:only-of-type {\n        vertical-align: middle;\n    }\n\n    .dataframe tbody tr th {\n        vertical-align: top;\n    }\n\n    .dataframe thead th {\n        text-align: right;\n    }\n</style>\n<table border=\"1\" class=\"dataframe\">\n  <thead>\n    <tr style=\"text-align: right;\">\n      <th></th>\n      <th></th>\n      <th>Census Metropolitan Area</th>\n      <th></th>\n      <th>Median Income,Households2015 (CAD)[5]</th>\n      <th></th>\n      <th>Median Income,Census Families2017 (CAD)[6]</th>\n      <th></th>\n      <th>Median Income,Economic Families andPersons not in an Economic Family2017 (CAD)[7]</th>\n      <th></th>\n      <th>Median Income,Economic Families2017 (CAD)[8]</th>\n      <th></th>\n    </tr>\n  </thead>\n  <tbody>\n    <tr>\n      <th>4</th>\n      <td></td>\n      <td>Regina</td>\n      <td></td>\n      <td>84447</td>\n      <td></td>\n      <td>99240</td>\n      <td></td>\n      <td>None</td>\n      <td>None</td>\n      <td>None</td>\n      <td>None</td>\n    </tr>\n    <tr>\n      <th>7</th>\n      <td></td>\n      <td>Guelph</td>\n      <td></td>\n      <td>81223</td>\n      <td></td>\n      <td>98650</td>\n      <td></td>\n      <td>None</td>\n      <td>None</td>\n      <td>None</td>\n      <td>None</td>\n    </tr>\n    <tr>\n      <th>9</th>\n      <td></td>\n      <td>St. John's</td>\n      <td></td>\n      <td>79750</td>\n      <td></td>\n      <td>97110</td>\n      <td></td>\n      <td>None</td>\n      <td>None</td>\n      <td>None</td>\n      <td>None</td>\n    </tr>\n    <tr>\n      <th>3</th>\n      <td></td>\n      <td>Oshawa</td>\n      <td></td>\n      <td>85697</td>\n      <td></td>\n      <td>95510</td>\n      <td></td>\n      <td>None</td>\n      <td>None</td>\n      <td>None</td>\n      <td>None</td>\n    </tr>\n    <tr>\n      <th>20</th>\n      <td></td>\n      <td>Victoria</td>\n      <td></td>\n      <td>70283</td>\n      <td></td>\n      <td>95250</td>\n      <td></td>\n      <td>None</td>\n      <td>None</td>\n      <td>None</td>\n      <td>None</td>\n    </tr>\n  </tbody>\n</table>\n</div>", 
                        "text/plain": "     Census Metropolitan Area   Median Income,Households2015 (CAD)[5]    \\\n4                      Regina                                   84447     \n7                      Guelph                                   81223     \n9                  St. John's                                   79750     \n3                      Oshawa                                   85697     \n20                   Victoria                                   70283     \n\n   Median Income,Census Families2017 (CAD)[6]    \\\n4                                       99240     \n7                                       98650     \n9                                       97110     \n3                                       95510     \n20                                      95250     \n\n   Median Income,Economic Families andPersons not in an Economic Family2017 (CAD)[7]  \\\n4                                                None                                  \n7                                                None                                  \n9                                                None                                  \n3                                                None                                  \n20                                               None                                  \n\n         Median Income,Economic Families2017 (CAD)[8]        \n4   None                                         None  None  \n7   None                                         None  None  \n9   None                                         None  None  \n3   None                                         None  None  \n20  None                                         None  None  "
                    }, 
                    "output_type": "execute_result"
                }
            ], 
            "source": "df_top_cities.head()"
        }, 
        {
            "execution_count": 128, 
            "cell_type": "code", 
            "metadata": {}, 
            "outputs": [], 
            "source": "link = requests.get(\"https://en.wikipedia.org/wiki/List_of_the_100_largest_municipalities_in_Canada_by_population\")\nsoup = BeautifulSoup(link.content, 'html.parser')"
        }, 
        {
            "execution_count": 129, 
            "cell_type": "code", 
            "metadata": {}, 
            "outputs": [], 
            "source": "table = soup.find('tbody')\nrows = table.select('tr')\nrow = [r.get_text() for r in rows]"
        }, 
        {
            "execution_count": 130, 
            "cell_type": "code", 
            "metadata": {}, 
            "outputs": [
                {
                    "execution_count": 130, 
                    "metadata": {}, 
                    "data": {
                        "text/html": "<div>\n<style scoped>\n    .dataframe tbody tr th:only-of-type {\n        vertical-align: middle;\n    }\n\n    .dataframe tbody tr th {\n        vertical-align: top;\n    }\n\n    .dataframe thead th {\n        text-align: right;\n    }\n</style>\n<table border=\"1\" class=\"dataframe\">\n  <thead>\n    <tr style=\"text-align: right;\">\n      <th></th>\n      <th></th>\n      <th>Rank(2016)</th>\n      <th></th>\n      <th>Municipality</th>\n      <th></th>\n      <th>Province</th>\n      <th></th>\n      <th>Municipal status</th>\n      <th></th>\n      <th>Land\u00a0area(km2,\u00a02011)</th>\n      <th>...</th>\n      <th>Population(2016)</th>\n      <th></th>\n      <th>Population(2011)</th>\n      <th></th>\n      <th>Population(2006)</th>\n      <th></th>\n      <th>Population(2001)</th>\n      <th></th>\n      <th>Population(1996)</th>\n      <th></th>\n    </tr>\n  </thead>\n  <tbody>\n    <tr>\n      <th>1</th>\n      <td></td>\n      <td>1</td>\n      <td></td>\n      <td>Toronto</td>\n      <td></td>\n      <td>Ontario</td>\n      <td></td>\n      <td>City</td>\n      <td></td>\n      <td>630.2</td>\n      <td>...</td>\n      <td>2,615,060</td>\n      <td></td>\n      <td>2,503,281</td>\n      <td></td>\n      <td>2,481,494</td>\n      <td></td>\n      <td>2,385,421</td>\n      <td></td>\n      <td>None</td>\n      <td>None</td>\n    </tr>\n    <tr>\n      <th>2</th>\n      <td></td>\n      <td>2</td>\n      <td></td>\n      <td>Montreal</td>\n      <td></td>\n      <td>Quebec</td>\n      <td></td>\n      <td>Ville</td>\n      <td></td>\n      <td>365.1</td>\n      <td>...</td>\n      <td>1,649,519</td>\n      <td></td>\n      <td>1,620,693</td>\n      <td></td>\n      <td>1,583,590</td>\n      <td></td>\n      <td>1,547,030</td>\n      <td></td>\n      <td>None</td>\n      <td>None</td>\n    </tr>\n    <tr>\n      <th>3</th>\n      <td></td>\n      <td>3</td>\n      <td></td>\n      <td>Calgary</td>\n      <td></td>\n      <td>Alberta</td>\n      <td></td>\n      <td>City</td>\n      <td></td>\n      <td>825.3</td>\n      <td>...</td>\n      <td>1,096,833</td>\n      <td></td>\n      <td>988,193</td>\n      <td></td>\n      <td>879,003</td>\n      <td></td>\n      <td>768,082</td>\n      <td></td>\n      <td>None</td>\n      <td>None</td>\n    </tr>\n    <tr>\n      <th>4</th>\n      <td></td>\n      <td>4</td>\n      <td></td>\n      <td>Ottawa</td>\n      <td></td>\n      <td>Ontario</td>\n      <td></td>\n      <td>City</td>\n      <td></td>\n      <td>2,790.2</td>\n      <td>...</td>\n      <td>883,391</td>\n      <td></td>\n      <td>812,129</td>\n      <td></td>\n      <td>774,072</td>\n      <td></td>\n      <td>721,136</td>\n      <td></td>\n      <td>None</td>\n      <td>None</td>\n    </tr>\n    <tr>\n      <th>5</th>\n      <td></td>\n      <td>5</td>\n      <td></td>\n      <td>Edmonton</td>\n      <td></td>\n      <td>Alberta</td>\n      <td></td>\n      <td>City</td>\n      <td></td>\n      <td>684.4</td>\n      <td>...</td>\n      <td>812,201</td>\n      <td></td>\n      <td>730,372</td>\n      <td></td>\n      <td>666,104</td>\n      <td></td>\n      <td>616,306</td>\n      <td></td>\n      <td>None</td>\n      <td>None</td>\n    </tr>\n  </tbody>\n</table>\n<p>5 rows \u00d7 25 columns</p>\n</div>", 
                        "text/plain": "    Rank(2016)   Municipality   Province   Municipal status    \\\n1            1        Toronto    Ontario               City     \n2            2       Montreal     Quebec              Ville     \n3            3        Calgary    Alberta               City     \n4            4         Ottawa    Ontario               City     \n5            5       Edmonton    Alberta               City     \n\n  Land\u00a0area(km2,\u00a02011)  ... Population(2016)   Population(2011)    \\\n1                630.2  ...        2,615,060          2,503,281     \n2                365.1  ...        1,649,519          1,620,693     \n3                825.3  ...        1,096,833            988,193     \n4              2,790.2  ...          883,391            812,129     \n5                684.4  ...          812,201            730,372     \n\n  Population(2006)   Population(2001)   Population(1996)        \n1        2,481,494          2,385,421               None  None  \n2        1,583,590          1,547,030               None  None  \n3          879,003            768,082               None  None  \n4          774,072            721,136               None  None  \n5          666,104            616,306               None  None  \n\n[5 rows x 25 columns]"
                    }, 
                    "output_type": "execute_result"
                }
            ], 
            "source": "df = pd.DataFrame(row)\ndf1 = df[0].str.split('\\n', expand=True)\ndf2 = df1.rename(columns=df1.iloc[0])\ndf3 = df2.drop(df2.index[0])\ndf3.head()"
        }, 
        {
            "source": "# Analysis of both these data show Montreal and Calgary with an equal balance of population and Income. Hence these cities can be targeted for future expansion", 
            "cell_type": "markdown", 
            "metadata": {}
        }
    ], 
    "metadata": {
        "kernelspec": {
            "display_name": "Python 3.6", 
            "name": "python3", 
            "language": "python"
        }, 
        "language_info": {
            "mimetype": "text/x-python", 
            "nbconvert_exporter": "python", 
            "version": "3.6.8", 
            "name": "python", 
            "file_extension": ".py", 
            "pygments_lexer": "ipython3", 
            "codemirror_mode": {
                "version": 3, 
                "name": "ipython"
            }
        }
    }, 
    "nbformat": 4
}